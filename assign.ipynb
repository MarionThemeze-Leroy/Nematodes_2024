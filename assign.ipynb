{
 "cells": [
  {
   "cell_type": "markdown",
   "id": "d506dc22-ead7-4abe-b235-2bb0b45c577f",
   "metadata": {},
   "source": [
    "# ASSIGNATIONS TAXONOMIQUES"
   ]
  },
  {
   "cell_type": "markdown",
   "id": "09d080fb-aa36-4296-bf01-e5c89b02e205",
   "metadata": {},
   "source": [
    "## CHARGEMENT DES PACKAGES"
   ]
  },
  {
   "cell_type": "code",
   "execution_count": 3,
   "id": "5c14ad31-07ba-492e-a77b-307c20c4b380",
   "metadata": {},
   "outputs": [
    {
     "name": "stderr",
     "output_type": "stream",
     "text": [
      "Loading required package: BiocGenerics\n",
      "\n",
      "\n",
      "Attaching package: ‘BiocGenerics’\n",
      "\n",
      "\n",
      "The following objects are masked from ‘package:stats’:\n",
      "\n",
      "    IQR, mad, sd, var, xtabs\n",
      "\n",
      "\n",
      "The following objects are masked from ‘package:base’:\n",
      "\n",
      "    Filter, Find, Map, Position, Reduce, anyDuplicated, aperm, append,\n",
      "    as.data.frame, basename, cbind, colnames, dirname, do.call,\n",
      "    duplicated, eval, evalq, get, grep, grepl, intersect, is.unsorted,\n",
      "    lapply, mapply, match, mget, order, paste, pmax, pmax.int, pmin,\n",
      "    pmin.int, rank, rbind, rownames, sapply, setdiff, table, tapply,\n",
      "    union, unique, unsplit, which.max, which.min\n",
      "\n",
      "\n",
      "Loading required package: S4Vectors\n",
      "\n",
      "Loading required package: stats4\n",
      "\n",
      "\n",
      "Attaching package: ‘S4Vectors’\n",
      "\n",
      "\n",
      "The following object is masked from ‘package:utils’:\n",
      "\n",
      "    findMatches\n",
      "\n",
      "\n",
      "The following objects are masked from ‘package:base’:\n",
      "\n",
      "    I, expand.grid, unname\n",
      "\n",
      "\n",
      "Loading required package: IRanges\n",
      "\n",
      "Loading required package: XVector\n",
      "\n",
      "Loading required package: GenomeInfoDb\n",
      "\n",
      "\n",
      "Attaching package: ‘Biostrings’\n",
      "\n",
      "\n",
      "The following object is masked from ‘package:base’:\n",
      "\n",
      "    strsplit\n",
      "\n",
      "\n",
      "── \u001b[1mAttaching core tidyverse packages\u001b[22m ──────────────────────── tidyverse 2.0.0 ──\n",
      "\u001b[32m✔\u001b[39m \u001b[34mdplyr    \u001b[39m 1.1.4     \u001b[32m✔\u001b[39m \u001b[34mreadr    \u001b[39m 2.1.5\n",
      "\u001b[32m✔\u001b[39m \u001b[34mforcats  \u001b[39m 1.0.0     \u001b[32m✔\u001b[39m \u001b[34mstringr  \u001b[39m 1.5.1\n",
      "\u001b[32m✔\u001b[39m \u001b[34mggplot2  \u001b[39m 3.5.1     \u001b[32m✔\u001b[39m \u001b[34mtibble   \u001b[39m 3.2.1\n",
      "\u001b[32m✔\u001b[39m \u001b[34mlubridate\u001b[39m 1.9.3     \u001b[32m✔\u001b[39m \u001b[34mtidyr    \u001b[39m 1.3.1\n",
      "\u001b[32m✔\u001b[39m \u001b[34mpurrr    \u001b[39m 1.0.2     \n",
      "── \u001b[1mConflicts\u001b[22m ────────────────────────────────────────── tidyverse_conflicts() ──\n",
      "\u001b[31m✖\u001b[39m \u001b[34mlubridate\u001b[39m::\u001b[32m%within%()\u001b[39m masks \u001b[34mIRanges\u001b[39m::%within%()\n",
      "\u001b[31m✖\u001b[39m \u001b[34mggplot2\u001b[39m::\u001b[32mPosition()\u001b[39m   masks \u001b[34mBiocGenerics\u001b[39m::Position(), \u001b[34mbase\u001b[39m::Position()\n",
      "\u001b[31m✖\u001b[39m \u001b[34mdplyr\u001b[39m::\u001b[32mcollapse()\u001b[39m     masks \u001b[34mBiostrings\u001b[39m::collapse(), \u001b[34mIRanges\u001b[39m::collapse()\n",
      "\u001b[31m✖\u001b[39m \u001b[34mdplyr\u001b[39m::\u001b[32mcombine()\u001b[39m      masks \u001b[34mBiocGenerics\u001b[39m::combine()\n",
      "\u001b[31m✖\u001b[39m \u001b[34mpurrr\u001b[39m::\u001b[32mcompact()\u001b[39m      masks \u001b[34mXVector\u001b[39m::compact()\n",
      "\u001b[31m✖\u001b[39m \u001b[34mdplyr\u001b[39m::\u001b[32mdesc()\u001b[39m         masks \u001b[34mIRanges\u001b[39m::desc()\n",
      "\u001b[31m✖\u001b[39m \u001b[34mtidyr\u001b[39m::\u001b[32mexpand()\u001b[39m       masks \u001b[34mS4Vectors\u001b[39m::expand()\n",
      "\u001b[31m✖\u001b[39m \u001b[34mdplyr\u001b[39m::\u001b[32mfilter()\u001b[39m       masks \u001b[34mstats\u001b[39m::filter()\n",
      "\u001b[31m✖\u001b[39m \u001b[34mdplyr\u001b[39m::\u001b[32mfirst()\u001b[39m        masks \u001b[34mS4Vectors\u001b[39m::first()\n",
      "\u001b[31m✖\u001b[39m \u001b[34mdplyr\u001b[39m::\u001b[32mlag()\u001b[39m          masks \u001b[34mstats\u001b[39m::lag()\n",
      "\u001b[31m✖\u001b[39m \u001b[34mpurrr\u001b[39m::\u001b[32mreduce()\u001b[39m       masks \u001b[34mIRanges\u001b[39m::reduce()\n",
      "\u001b[31m✖\u001b[39m \u001b[34mdplyr\u001b[39m::\u001b[32mrename()\u001b[39m       masks \u001b[34mS4Vectors\u001b[39m::rename()\n",
      "\u001b[31m✖\u001b[39m \u001b[34mlubridate\u001b[39m::\u001b[32msecond()\u001b[39m   masks \u001b[34mS4Vectors\u001b[39m::second()\n",
      "\u001b[31m✖\u001b[39m \u001b[34mlubridate\u001b[39m::\u001b[32msecond<-()\u001b[39m masks \u001b[34mS4Vectors\u001b[39m::second<-()\n",
      "\u001b[31m✖\u001b[39m \u001b[34mdplyr\u001b[39m::\u001b[32mslice()\u001b[39m        masks \u001b[34mXVector\u001b[39m::slice(), \u001b[34mIRanges\u001b[39m::slice()\n",
      "\u001b[36mℹ\u001b[39m Use the conflicted package (\u001b[3m\u001b[34m<http://conflicted.r-lib.org/>\u001b[39m\u001b[23m) to force all conflicts to become errors\n"
     ]
    }
   ],
   "source": [
    "library(Rcpp)\n",
    "library(dada2)\n",
    "library(Biostrings)\n",
    "library(tidyverse) "
   ]
  },
  {
   "cell_type": "markdown",
   "id": "8bbdfa4e-bc1e-4499-a2ea-72e44471e36e",
   "metadata": {},
   "source": [
    "## OUVERTURE DES SEQUENCES"
   ]
  },
  {
   "cell_type": "code",
   "execution_count": 4,
   "id": "cd10b90a-e70e-4e03-9e4d-14929cbaca80",
   "metadata": {},
   "outputs": [
    {
     "data": {
      "text/plain": [
       "DNAStringSet object of length 8130:\n",
       "       width seq                                            names               \n",
       "   [1]   253 \u001b[47m\u001b[30mT\u001b[39m\u001b[49m\u001b[47m\u001b[30mA\u001b[39m\u001b[49m\u001b[47m\u001b[30mC\u001b[39m\u001b[49m\u001b[47m\u001b[30mG\u001b[39m\u001b[49m\u001b[47m\u001b[30mG\u001b[39m\u001b[49m\u001b[47m\u001b[30mA\u001b[39m\u001b[49m\u001b[47m\u001b[30mG\u001b[39m\u001b[49m\u001b[47m\u001b[30mG\u001b[39m\u001b[49m\u001b[47m\u001b[30mG\u001b[39m\u001b[49m\u001b[47m\u001b[30mT\u001b[39m\u001b[49m\u001b[47m\u001b[30mG\u001b[39m\u001b[49m\u001b[47m\u001b[30mC\u001b[39m\u001b[49m\u001b[47m\u001b[30mG\u001b[39m\u001b[49m\u001b[47m\u001b[30mA\u001b[39m\u001b[49m\u001b[47m\u001b[30mG\u001b[39m\u001b[49m\u001b[47m\u001b[30mC\u001b[39m\u001b[49m\u001b[47m\u001b[30mG\u001b[39m\u001b[49m\u001b[47m\u001b[30mT\u001b[39m\u001b[49m\u001b[47m\u001b[30mT\u001b[39m\u001b[49m\u001b[47m\u001b[30mA\u001b[39m\u001b[49m\u001b[47m\u001b[30mA\u001b[39m\u001b[49m\u001b[47m\u001b[30mT\u001b[39m\u001b[49m...\u001b[47m\u001b[30mA\u001b[39m\u001b[49m\u001b[47m\u001b[30mA\u001b[39m\u001b[49m\u001b[47m\u001b[30mA\u001b[39m\u001b[49m\u001b[47m\u001b[30mG\u001b[39m\u001b[49m\u001b[47m\u001b[30mC\u001b[39m\u001b[49m\u001b[47m\u001b[30mG\u001b[39m\u001b[49m\u001b[47m\u001b[30mT\u001b[39m\u001b[49m\u001b[47m\u001b[30mG\u001b[39m\u001b[49m\u001b[47m\u001b[30mG\u001b[39m\u001b[49m\u001b[47m\u001b[30mG\u001b[39m\u001b[49m\u001b[47m\u001b[30mG\u001b[39m\u001b[49m\u001b[47m\u001b[30mA\u001b[39m\u001b[49m\u001b[47m\u001b[30mG\u001b[39m\u001b[49m\u001b[47m\u001b[30mC\u001b[39m\u001b[49m\u001b[47m\u001b[30mA\u001b[39m\u001b[49m\u001b[47m\u001b[30mA\u001b[39m\u001b[49m\u001b[47m\u001b[30mA\u001b[39m\u001b[49m\u001b[47m\u001b[30mC\u001b[39m\u001b[49m\u001b[47m\u001b[30mA\u001b[39m\u001b[49m\u001b[47m\u001b[30mG\u001b[39m\u001b[49m\u001b[47m\u001b[30mG\u001b[39m\u001b[49m f41eb548cba466f8a...\n",
       "   [2]   253 \u001b[47m\u001b[30mT\u001b[39m\u001b[49m\u001b[47m\u001b[30mA\u001b[39m\u001b[49m\u001b[47m\u001b[30mC\u001b[39m\u001b[49m\u001b[47m\u001b[30mG\u001b[39m\u001b[49m\u001b[47m\u001b[30mG\u001b[39m\u001b[49m\u001b[47m\u001b[30mA\u001b[39m\u001b[49m\u001b[47m\u001b[30mG\u001b[39m\u001b[49m\u001b[47m\u001b[30mG\u001b[39m\u001b[49m\u001b[47m\u001b[30mG\u001b[39m\u001b[49m\u001b[47m\u001b[30mT\u001b[39m\u001b[49m\u001b[47m\u001b[30mC\u001b[39m\u001b[49m\u001b[47m\u001b[30mC\u001b[39m\u001b[49m\u001b[47m\u001b[30mA\u001b[39m\u001b[49m\u001b[47m\u001b[30mA\u001b[39m\u001b[49m\u001b[47m\u001b[30mG\u001b[39m\u001b[49m\u001b[47m\u001b[30mC\u001b[39m\u001b[49m\u001b[47m\u001b[30mG\u001b[39m\u001b[49m\u001b[47m\u001b[30mT\u001b[39m\u001b[49m\u001b[47m\u001b[30mT\u001b[39m\u001b[49m\u001b[47m\u001b[30mA\u001b[39m\u001b[49m\u001b[47m\u001b[30mT\u001b[39m\u001b[49m\u001b[47m\u001b[30mC\u001b[39m\u001b[49m...\u001b[47m\u001b[30mA\u001b[39m\u001b[49m\u001b[47m\u001b[30mA\u001b[39m\u001b[49m\u001b[47m\u001b[30mA\u001b[39m\u001b[49m\u001b[47m\u001b[30mG\u001b[39m\u001b[49m\u001b[47m\u001b[30mC\u001b[39m\u001b[49m\u001b[47m\u001b[30mG\u001b[39m\u001b[49m\u001b[47m\u001b[30mT\u001b[39m\u001b[49m\u001b[47m\u001b[30mG\u001b[39m\u001b[49m\u001b[47m\u001b[30mG\u001b[39m\u001b[49m\u001b[47m\u001b[30mG\u001b[39m\u001b[49m\u001b[47m\u001b[30mG\u001b[39m\u001b[49m\u001b[47m\u001b[30mA\u001b[39m\u001b[49m\u001b[47m\u001b[30mG\u001b[39m\u001b[49m\u001b[47m\u001b[30mC\u001b[39m\u001b[49m\u001b[47m\u001b[30mG\u001b[39m\u001b[49m\u001b[47m\u001b[30mA\u001b[39m\u001b[49m\u001b[47m\u001b[30mA\u001b[39m\u001b[49m\u001b[47m\u001b[30mC\u001b[39m\u001b[49m\u001b[47m\u001b[30mG\u001b[39m\u001b[49m\u001b[47m\u001b[30mG\u001b[39m\u001b[49m\u001b[47m\u001b[30mG\u001b[39m\u001b[49m dda1c8a4aafcc6c3d...\n",
       "   [3]   253 \u001b[47m\u001b[30mT\u001b[39m\u001b[49m\u001b[47m\u001b[30mA\u001b[39m\u001b[49m\u001b[47m\u001b[30mC\u001b[39m\u001b[49m\u001b[47m\u001b[30mG\u001b[39m\u001b[49m\u001b[47m\u001b[30mG\u001b[39m\u001b[49m\u001b[47m\u001b[30mA\u001b[39m\u001b[49m\u001b[47m\u001b[30mG\u001b[39m\u001b[49m\u001b[47m\u001b[30mG\u001b[39m\u001b[49m\u001b[47m\u001b[30mG\u001b[39m\u001b[49m\u001b[47m\u001b[30mT\u001b[39m\u001b[49m\u001b[47m\u001b[30mG\u001b[39m\u001b[49m\u001b[47m\u001b[30mC\u001b[39m\u001b[49m\u001b[47m\u001b[30mG\u001b[39m\u001b[49m\u001b[47m\u001b[30mA\u001b[39m\u001b[49m\u001b[47m\u001b[30mG\u001b[39m\u001b[49m\u001b[47m\u001b[30mC\u001b[39m\u001b[49m\u001b[47m\u001b[30mG\u001b[39m\u001b[49m\u001b[47m\u001b[30mT\u001b[39m\u001b[49m\u001b[47m\u001b[30mT\u001b[39m\u001b[49m\u001b[47m\u001b[30mG\u001b[39m\u001b[49m\u001b[47m\u001b[30mT\u001b[39m\u001b[49m\u001b[47m\u001b[30mC\u001b[39m\u001b[49m...\u001b[47m\u001b[30mA\u001b[39m\u001b[49m\u001b[47m\u001b[30mA\u001b[39m\u001b[49m\u001b[47m\u001b[30mA\u001b[39m\u001b[49m\u001b[47m\u001b[30mG\u001b[39m\u001b[49m\u001b[47m\u001b[30mC\u001b[39m\u001b[49m\u001b[47m\u001b[30mA\u001b[39m\u001b[49m\u001b[47m\u001b[30mT\u001b[39m\u001b[49m\u001b[47m\u001b[30mG\u001b[39m\u001b[49m\u001b[47m\u001b[30mG\u001b[39m\u001b[49m\u001b[47m\u001b[30mG\u001b[39m\u001b[49m\u001b[47m\u001b[30mG\u001b[39m\u001b[49m\u001b[47m\u001b[30mA\u001b[39m\u001b[49m\u001b[47m\u001b[30mG\u001b[39m\u001b[49m\u001b[47m\u001b[30mC\u001b[39m\u001b[49m\u001b[47m\u001b[30mG\u001b[39m\u001b[49m\u001b[47m\u001b[30mA\u001b[39m\u001b[49m\u001b[47m\u001b[30mA\u001b[39m\u001b[49m\u001b[47m\u001b[30mC\u001b[39m\u001b[49m\u001b[47m\u001b[30mA\u001b[39m\u001b[49m\u001b[47m\u001b[30mG\u001b[39m\u001b[49m\u001b[47m\u001b[30mG\u001b[39m\u001b[49m 394a72d1e51d2532c...\n",
       "   [4]   253 \u001b[47m\u001b[30mT\u001b[39m\u001b[49m\u001b[47m\u001b[30mA\u001b[39m\u001b[49m\u001b[47m\u001b[30mC\u001b[39m\u001b[49m\u001b[47m\u001b[30mG\u001b[39m\u001b[49m\u001b[47m\u001b[30mA\u001b[39m\u001b[49m\u001b[47m\u001b[30mA\u001b[39m\u001b[49m\u001b[47m\u001b[30mG\u001b[39m\u001b[49m\u001b[47m\u001b[30mG\u001b[39m\u001b[49m\u001b[47m\u001b[30mG\u001b[39m\u001b[49m\u001b[47m\u001b[30mG\u001b[39m\u001b[49m\u001b[47m\u001b[30mG\u001b[39m\u001b[49m\u001b[47m\u001b[30mC\u001b[39m\u001b[49m\u001b[47m\u001b[30mT\u001b[39m\u001b[49m\u001b[47m\u001b[30mA\u001b[39m\u001b[49m\u001b[47m\u001b[30mG\u001b[39m\u001b[49m\u001b[47m\u001b[30mC\u001b[39m\u001b[49m\u001b[47m\u001b[30mG\u001b[39m\u001b[49m\u001b[47m\u001b[30mT\u001b[39m\u001b[49m\u001b[47m\u001b[30mT\u001b[39m\u001b[49m\u001b[47m\u001b[30mG\u001b[39m\u001b[49m\u001b[47m\u001b[30mT\u001b[39m\u001b[49m\u001b[47m\u001b[30mT\u001b[39m\u001b[49m...\u001b[47m\u001b[30mA\u001b[39m\u001b[49m\u001b[47m\u001b[30mA\u001b[39m\u001b[49m\u001b[47m\u001b[30mA\u001b[39m\u001b[49m\u001b[47m\u001b[30mG\u001b[39m\u001b[49m\u001b[47m\u001b[30mT\u001b[39m\u001b[49m\u001b[47m\u001b[30mA\u001b[39m\u001b[49m\u001b[47m\u001b[30mT\u001b[39m\u001b[49m\u001b[47m\u001b[30mG\u001b[39m\u001b[49m\u001b[47m\u001b[30mG\u001b[39m\u001b[49m\u001b[47m\u001b[30mG\u001b[39m\u001b[49m\u001b[47m\u001b[30mG\u001b[39m\u001b[49m\u001b[47m\u001b[30mA\u001b[39m\u001b[49m\u001b[47m\u001b[30mG\u001b[39m\u001b[49m\u001b[47m\u001b[30mC\u001b[39m\u001b[49m\u001b[47m\u001b[30mA\u001b[39m\u001b[49m\u001b[47m\u001b[30mA\u001b[39m\u001b[49m\u001b[47m\u001b[30mA\u001b[39m\u001b[49m\u001b[47m\u001b[30mC\u001b[39m\u001b[49m\u001b[47m\u001b[30mA\u001b[39m\u001b[49m\u001b[47m\u001b[30mG\u001b[39m\u001b[49m\u001b[47m\u001b[30mG\u001b[39m\u001b[49m 80b063178d4c8e004...\n",
       "   [5]   253 \u001b[47m\u001b[30mT\u001b[39m\u001b[49m\u001b[47m\u001b[30mA\u001b[39m\u001b[49m\u001b[47m\u001b[30mC\u001b[39m\u001b[49m\u001b[47m\u001b[30mG\u001b[39m\u001b[49m\u001b[47m\u001b[30mG\u001b[39m\u001b[49m\u001b[47m\u001b[30mA\u001b[39m\u001b[49m\u001b[47m\u001b[30mG\u001b[39m\u001b[49m\u001b[47m\u001b[30mG\u001b[39m\u001b[49m\u001b[47m\u001b[30mG\u001b[39m\u001b[49m\u001b[47m\u001b[30mT\u001b[39m\u001b[49m\u001b[47m\u001b[30mG\u001b[39m\u001b[49m\u001b[47m\u001b[30mC\u001b[39m\u001b[49m\u001b[47m\u001b[30mA\u001b[39m\u001b[49m\u001b[47m\u001b[30mA\u001b[39m\u001b[49m\u001b[47m\u001b[30mG\u001b[39m\u001b[49m\u001b[47m\u001b[30mC\u001b[39m\u001b[49m\u001b[47m\u001b[30mG\u001b[39m\u001b[49m\u001b[47m\u001b[30mT\u001b[39m\u001b[49m\u001b[47m\u001b[30mT\u001b[39m\u001b[49m\u001b[47m\u001b[30mA\u001b[39m\u001b[49m\u001b[47m\u001b[30mA\u001b[39m\u001b[49m\u001b[47m\u001b[30mT\u001b[39m\u001b[49m...\u001b[47m\u001b[30mA\u001b[39m\u001b[49m\u001b[47m\u001b[30mA\u001b[39m\u001b[49m\u001b[47m\u001b[30mA\u001b[39m\u001b[49m\u001b[47m\u001b[30mG\u001b[39m\u001b[49m\u001b[47m\u001b[30mC\u001b[39m\u001b[49m\u001b[47m\u001b[30mG\u001b[39m\u001b[49m\u001b[47m\u001b[30mT\u001b[39m\u001b[49m\u001b[47m\u001b[30mG\u001b[39m\u001b[49m\u001b[47m\u001b[30mG\u001b[39m\u001b[49m\u001b[47m\u001b[30mG\u001b[39m\u001b[49m\u001b[47m\u001b[30mG\u001b[39m\u001b[49m\u001b[47m\u001b[30mA\u001b[39m\u001b[49m\u001b[47m\u001b[30mG\u001b[39m\u001b[49m\u001b[47m\u001b[30mC\u001b[39m\u001b[49m\u001b[47m\u001b[30mA\u001b[39m\u001b[49m\u001b[47m\u001b[30mA\u001b[39m\u001b[49m\u001b[47m\u001b[30mA\u001b[39m\u001b[49m\u001b[47m\u001b[30mC\u001b[39m\u001b[49m\u001b[47m\u001b[30mA\u001b[39m\u001b[49m\u001b[47m\u001b[30mG\u001b[39m\u001b[49m\u001b[47m\u001b[30mG\u001b[39m\u001b[49m d46e2205f0c6ecf67...\n",
       "   ...   ... ...\n",
       "[8126]   253 \u001b[47m\u001b[30mT\u001b[39m\u001b[49m\u001b[47m\u001b[30mA\u001b[39m\u001b[49m\u001b[47m\u001b[30mC\u001b[39m\u001b[49m\u001b[47m\u001b[30mG\u001b[39m\u001b[49m\u001b[47m\u001b[30mG\u001b[39m\u001b[49m\u001b[47m\u001b[30mA\u001b[39m\u001b[49m\u001b[47m\u001b[30mG\u001b[39m\u001b[49m\u001b[47m\u001b[30mG\u001b[39m\u001b[49m\u001b[47m\u001b[30mG\u001b[39m\u001b[49m\u001b[47m\u001b[30mT\u001b[39m\u001b[49m\u001b[47m\u001b[30mG\u001b[39m\u001b[49m\u001b[47m\u001b[30mC\u001b[39m\u001b[49m\u001b[47m\u001b[30mG\u001b[39m\u001b[49m\u001b[47m\u001b[30mA\u001b[39m\u001b[49m\u001b[47m\u001b[30mG\u001b[39m\u001b[49m\u001b[47m\u001b[30mC\u001b[39m\u001b[49m\u001b[47m\u001b[30mG\u001b[39m\u001b[49m\u001b[47m\u001b[30mT\u001b[39m\u001b[49m\u001b[47m\u001b[30mT\u001b[39m\u001b[49m\u001b[47m\u001b[30mA\u001b[39m\u001b[49m\u001b[47m\u001b[30mA\u001b[39m\u001b[49m\u001b[47m\u001b[30mT\u001b[39m\u001b[49m...\u001b[47m\u001b[30mA\u001b[39m\u001b[49m\u001b[47m\u001b[30mA\u001b[39m\u001b[49m\u001b[47m\u001b[30mA\u001b[39m\u001b[49m\u001b[47m\u001b[30mG\u001b[39m\u001b[49m\u001b[47m\u001b[30mC\u001b[39m\u001b[49m\u001b[47m\u001b[30mG\u001b[39m\u001b[49m\u001b[47m\u001b[30mT\u001b[39m\u001b[49m\u001b[47m\u001b[30mG\u001b[39m\u001b[49m\u001b[47m\u001b[30mG\u001b[39m\u001b[49m\u001b[47m\u001b[30mG\u001b[39m\u001b[49m\u001b[47m\u001b[30mG\u001b[39m\u001b[49m\u001b[47m\u001b[30mA\u001b[39m\u001b[49m\u001b[47m\u001b[30mG\u001b[39m\u001b[49m\u001b[47m\u001b[30mC\u001b[39m\u001b[49m\u001b[47m\u001b[30mA\u001b[39m\u001b[49m\u001b[47m\u001b[30mA\u001b[39m\u001b[49m\u001b[47m\u001b[30mA\u001b[39m\u001b[49m\u001b[47m\u001b[30mC\u001b[39m\u001b[49m\u001b[47m\u001b[30mA\u001b[39m\u001b[49m\u001b[47m\u001b[30mG\u001b[39m\u001b[49m\u001b[47m\u001b[30mG\u001b[39m\u001b[49m 1807bf5620ecb781f...\n",
       "[8127]   253 \u001b[47m\u001b[30mT\u001b[39m\u001b[49m\u001b[47m\u001b[30mA\u001b[39m\u001b[49m\u001b[47m\u001b[30mC\u001b[39m\u001b[49m\u001b[47m\u001b[30mG\u001b[39m\u001b[49m\u001b[47m\u001b[30mG\u001b[39m\u001b[49m\u001b[47m\u001b[30mA\u001b[39m\u001b[49m\u001b[47m\u001b[30mG\u001b[39m\u001b[49m\u001b[47m\u001b[30mG\u001b[39m\u001b[49m\u001b[47m\u001b[30mA\u001b[39m\u001b[49m\u001b[47m\u001b[30mT\u001b[39m\u001b[49m\u001b[47m\u001b[30mC\u001b[39m\u001b[49m\u001b[47m\u001b[30mC\u001b[39m\u001b[49m\u001b[47m\u001b[30mA\u001b[39m\u001b[49m\u001b[47m\u001b[30mA\u001b[39m\u001b[49m\u001b[47m\u001b[30mG\u001b[39m\u001b[49m\u001b[47m\u001b[30mC\u001b[39m\u001b[49m\u001b[47m\u001b[30mG\u001b[39m\u001b[49m\u001b[47m\u001b[30mT\u001b[39m\u001b[49m\u001b[47m\u001b[30mT\u001b[39m\u001b[49m\u001b[47m\u001b[30mA\u001b[39m\u001b[49m\u001b[47m\u001b[30mT\u001b[39m\u001b[49m\u001b[47m\u001b[30mC\u001b[39m\u001b[49m...\u001b[47m\u001b[30mA\u001b[39m\u001b[49m\u001b[47m\u001b[30mA\u001b[39m\u001b[49m\u001b[47m\u001b[30mA\u001b[39m\u001b[49m\u001b[47m\u001b[30mG\u001b[39m\u001b[49m\u001b[47m\u001b[30mC\u001b[39m\u001b[49m\u001b[47m\u001b[30mG\u001b[39m\u001b[49m\u001b[47m\u001b[30mT\u001b[39m\u001b[49m\u001b[47m\u001b[30mG\u001b[39m\u001b[49m\u001b[47m\u001b[30mG\u001b[39m\u001b[49m\u001b[47m\u001b[30mG\u001b[39m\u001b[49m\u001b[47m\u001b[30mG\u001b[39m\u001b[49m\u001b[47m\u001b[30mA\u001b[39m\u001b[49m\u001b[47m\u001b[30mG\u001b[39m\u001b[49m\u001b[47m\u001b[30mC\u001b[39m\u001b[49m\u001b[47m\u001b[30mA\u001b[39m\u001b[49m\u001b[47m\u001b[30mA\u001b[39m\u001b[49m\u001b[47m\u001b[30mA\u001b[39m\u001b[49m\u001b[47m\u001b[30mC\u001b[39m\u001b[49m\u001b[47m\u001b[30mC\u001b[39m\u001b[49m\u001b[47m\u001b[30mG\u001b[39m\u001b[49m\u001b[47m\u001b[30mG\u001b[39m\u001b[49m 96d060050dcb63953...\n",
       "[8128]   253 \u001b[47m\u001b[30mT\u001b[39m\u001b[49m\u001b[47m\u001b[30mA\u001b[39m\u001b[49m\u001b[47m\u001b[30mC\u001b[39m\u001b[49m\u001b[47m\u001b[30mG\u001b[39m\u001b[49m\u001b[47m\u001b[30mG\u001b[39m\u001b[49m\u001b[47m\u001b[30mA\u001b[39m\u001b[49m\u001b[47m\u001b[30mG\u001b[39m\u001b[49m\u001b[47m\u001b[30mG\u001b[39m\u001b[49m\u001b[47m\u001b[30mA\u001b[39m\u001b[49m\u001b[47m\u001b[30mT\u001b[39m\u001b[49m\u001b[47m\u001b[30mC\u001b[39m\u001b[49m\u001b[47m\u001b[30mC\u001b[39m\u001b[49m\u001b[47m\u001b[30mA\u001b[39m\u001b[49m\u001b[47m\u001b[30mA\u001b[39m\u001b[49m\u001b[47m\u001b[30mG\u001b[39m\u001b[49m\u001b[47m\u001b[30mC\u001b[39m\u001b[49m\u001b[47m\u001b[30mG\u001b[39m\u001b[49m\u001b[47m\u001b[30mT\u001b[39m\u001b[49m\u001b[47m\u001b[30mT\u001b[39m\u001b[49m\u001b[47m\u001b[30mA\u001b[39m\u001b[49m\u001b[47m\u001b[30mT\u001b[39m\u001b[49m\u001b[47m\u001b[30mC\u001b[39m\u001b[49m...\u001b[47m\u001b[30mA\u001b[39m\u001b[49m\u001b[47m\u001b[30mA\u001b[39m\u001b[49m\u001b[47m\u001b[30mA\u001b[39m\u001b[49m\u001b[47m\u001b[30mG\u001b[39m\u001b[49m\u001b[47m\u001b[30mC\u001b[39m\u001b[49m\u001b[47m\u001b[30mG\u001b[39m\u001b[49m\u001b[47m\u001b[30mT\u001b[39m\u001b[49m\u001b[47m\u001b[30mG\u001b[39m\u001b[49m\u001b[47m\u001b[30mG\u001b[39m\u001b[49m\u001b[47m\u001b[30mG\u001b[39m\u001b[49m\u001b[47m\u001b[30mT\u001b[39m\u001b[49m\u001b[47m\u001b[30mA\u001b[39m\u001b[49m\u001b[47m\u001b[30mG\u001b[39m\u001b[49m\u001b[47m\u001b[30mC\u001b[39m\u001b[49m\u001b[47m\u001b[30mG\u001b[39m\u001b[49m\u001b[47m\u001b[30mA\u001b[39m\u001b[49m\u001b[47m\u001b[30mA\u001b[39m\u001b[49m\u001b[47m\u001b[30mC\u001b[39m\u001b[49m\u001b[47m\u001b[30mA\u001b[39m\u001b[49m\u001b[47m\u001b[30mG\u001b[39m\u001b[49m\u001b[47m\u001b[30mG\u001b[39m\u001b[49m 3ce45e39df4224347...\n",
       "[8129]   253 \u001b[47m\u001b[30mT\u001b[39m\u001b[49m\u001b[47m\u001b[30mA\u001b[39m\u001b[49m\u001b[47m\u001b[30mC\u001b[39m\u001b[49m\u001b[47m\u001b[30mG\u001b[39m\u001b[49m\u001b[47m\u001b[30mG\u001b[39m\u001b[49m\u001b[47m\u001b[30mA\u001b[39m\u001b[49m\u001b[47m\u001b[30mG\u001b[39m\u001b[49m\u001b[47m\u001b[30mG\u001b[39m\u001b[49m\u001b[47m\u001b[30mG\u001b[39m\u001b[49m\u001b[47m\u001b[30mT\u001b[39m\u001b[49m\u001b[47m\u001b[30mG\u001b[39m\u001b[49m\u001b[47m\u001b[30mC\u001b[39m\u001b[49m\u001b[47m\u001b[30mG\u001b[39m\u001b[49m\u001b[47m\u001b[30mA\u001b[39m\u001b[49m\u001b[47m\u001b[30mG\u001b[39m\u001b[49m\u001b[47m\u001b[30mC\u001b[39m\u001b[49m\u001b[47m\u001b[30mG\u001b[39m\u001b[49m\u001b[47m\u001b[30mT\u001b[39m\u001b[49m\u001b[47m\u001b[30mT\u001b[39m\u001b[49m\u001b[47m\u001b[30mA\u001b[39m\u001b[49m\u001b[47m\u001b[30mA\u001b[39m\u001b[49m\u001b[47m\u001b[30mT\u001b[39m\u001b[49m...\u001b[47m\u001b[30mA\u001b[39m\u001b[49m\u001b[47m\u001b[30mA\u001b[39m\u001b[49m\u001b[47m\u001b[30mA\u001b[39m\u001b[49m\u001b[47m\u001b[30mG\u001b[39m\u001b[49m\u001b[47m\u001b[30mC\u001b[39m\u001b[49m\u001b[47m\u001b[30mG\u001b[39m\u001b[49m\u001b[47m\u001b[30mT\u001b[39m\u001b[49m\u001b[47m\u001b[30mG\u001b[39m\u001b[49m\u001b[47m\u001b[30mG\u001b[39m\u001b[49m\u001b[47m\u001b[30mG\u001b[39m\u001b[49m\u001b[47m\u001b[30mG\u001b[39m\u001b[49m\u001b[47m\u001b[30mA\u001b[39m\u001b[49m\u001b[47m\u001b[30mG\u001b[39m\u001b[49m\u001b[47m\u001b[30mC\u001b[39m\u001b[49m\u001b[47m\u001b[30mA\u001b[39m\u001b[49m\u001b[47m\u001b[30mA\u001b[39m\u001b[49m\u001b[47m\u001b[30mA\u001b[39m\u001b[49m\u001b[47m\u001b[30mC\u001b[39m\u001b[49m\u001b[47m\u001b[30mA\u001b[39m\u001b[49m\u001b[47m\u001b[30mG\u001b[39m\u001b[49m\u001b[47m\u001b[30mG\u001b[39m\u001b[49m 3cf6e306e475ab9f4...\n",
       "[8130]   253 \u001b[47m\u001b[30mT\u001b[39m\u001b[49m\u001b[47m\u001b[30mA\u001b[39m\u001b[49m\u001b[47m\u001b[30mC\u001b[39m\u001b[49m\u001b[47m\u001b[30mA\u001b[39m\u001b[49m\u001b[47m\u001b[30mG\u001b[39m\u001b[49m\u001b[47m\u001b[30mA\u001b[39m\u001b[49m\u001b[47m\u001b[30mG\u001b[39m\u001b[49m\u001b[47m\u001b[30mG\u001b[39m\u001b[49m\u001b[47m\u001b[30mG\u001b[39m\u001b[49m\u001b[47m\u001b[30mG\u001b[39m\u001b[49m\u001b[47m\u001b[30mG\u001b[39m\u001b[49m\u001b[47m\u001b[30mC\u001b[39m\u001b[49m\u001b[47m\u001b[30mA\u001b[39m\u001b[49m\u001b[47m\u001b[30mA\u001b[39m\u001b[49m\u001b[47m\u001b[30mG\u001b[39m\u001b[49m\u001b[47m\u001b[30mC\u001b[39m\u001b[49m\u001b[47m\u001b[30mG\u001b[39m\u001b[49m\u001b[47m\u001b[30mT\u001b[39m\u001b[49m\u001b[47m\u001b[30mT\u001b[39m\u001b[49m\u001b[47m\u001b[30mG\u001b[39m\u001b[49m\u001b[47m\u001b[30mT\u001b[39m\u001b[49m\u001b[47m\u001b[30mT\u001b[39m\u001b[49m...\u001b[47m\u001b[30mA\u001b[39m\u001b[49m\u001b[47m\u001b[30mA\u001b[39m\u001b[49m\u001b[47m\u001b[30mA\u001b[39m\u001b[49m\u001b[47m\u001b[30mG\u001b[39m\u001b[49m\u001b[47m\u001b[30mC\u001b[39m\u001b[49m\u001b[47m\u001b[30mC\u001b[39m\u001b[49m\u001b[47m\u001b[30mA\u001b[39m\u001b[49m\u001b[47m\u001b[30mG\u001b[39m\u001b[49m\u001b[47m\u001b[30mG\u001b[39m\u001b[49m\u001b[47m\u001b[30mG\u001b[39m\u001b[49m\u001b[47m\u001b[30mG\u001b[39m\u001b[49m\u001b[47m\u001b[30mA\u001b[39m\u001b[49m\u001b[47m\u001b[30mG\u001b[39m\u001b[49m\u001b[47m\u001b[30mC\u001b[39m\u001b[49m\u001b[47m\u001b[30mA\u001b[39m\u001b[49m\u001b[47m\u001b[30mA\u001b[39m\u001b[49m\u001b[47m\u001b[30mA\u001b[39m\u001b[49m\u001b[47m\u001b[30mC\u001b[39m\u001b[49m\u001b[47m\u001b[30mG\u001b[39m\u001b[49m\u001b[47m\u001b[30mG\u001b[39m\u001b[49m\u001b[47m\u001b[30mG\u001b[39m\u001b[49m b35e30cf9079e8eae..."
      ]
     },
     "metadata": {},
     "output_type": "display_data"
    }
   ],
   "source": [
    "# ouverture du fichier .fasta \n",
    "seq_rdp <- readDNAStringSet(\"data/sequences.fasta\", format=\"fasta\",\n",
    "               nrec=-1L, skip=0L, seek.first.rec=FALSE,\n",
    "               use.names=TRUE, with.qualities=FALSE)\n",
    "seq_rdp\n"
   ]
  },
  {
   "cell_type": "code",
   "execution_count": 5,
   "id": "8e46a267-36fa-47f7-8e93-df96a9eac24f",
   "metadata": {},
   "outputs": [
    {
     "data": {
      "text/html": [
       "<style>\n",
       ".dl-inline {width: auto; margin:0; padding: 0}\n",
       ".dl-inline>dt, .dl-inline>dd {float: none; width: auto; display: inline-block}\n",
       ".dl-inline>dt::after {content: \":\\0020\"; padding-right: .5ex}\n",
       ".dl-inline>dt:not(:first-of-type) {padding-left: .5ex}\n",
       "</style><dl class=dl-inline><dt>f41eb548cba466f8a672f4651a674958</dt><dd>'TACGGAGGGTGCGAGCGTTAATCGGAATTACTGGGCGTAAAGCGCATGCAGGTGGTTTGTTAAGTCAGATGTGAAAGCCCGGGGCTCAACCTCGGAAGGTCATTTGAAACTGGCAAACTAGAGTACTGTAGAGGGGGGTAGAATTTCAGGTGTAGCGGTGAAATGCGTAGAGATCTGAAGGAATACCAGTGGCGAAGGCGGCCCCCTGGACAGATACTGACACTCAGATGCGAAAGCGTGGGGAGCAAACAGG'</dd><dt>dda1c8a4aafcc6c3d1a4ae4b7bd73102</dt><dd>'TACGGAGGGTCCAAGCGTTATCCGGAATCATTGGGTTTAAAGGGTTCGTAGGCGGGCTAATTAGTCAGAGGTGAAATCCAGCAGCTTAACTGTTGAACTGCCTTTGATACTGTTAGTCTTGAGTTATATGGAAGTAGATAGAATATGTAGTGTAGCGGTGAAATGCATAGATATTACATAGAATACCGATTGCGAAGGCAGTCTACTACGTATATACTGACGCTGATGAACGAAAGCGTGGGGAGCGAACGGG'</dd><dt>394a72d1e51d2532c78dc8fdafbd0408</dt><dd>'TACGGAGGGTGCGAGCGTTGTCCGGATTTATTGGGTTTAAAGGGTGCGTAGGTGGCTTGATAAGTCAGTGGTGAAATACATCCGCTTAACGGATGAGGTGCCATTGATACTGTTAAGCTTGAAAGAATTGGAGGCTGCCGGAATGGATGGTGTAGCGGTGAAATGCATAGATATCATCCAGAACACCGATTGCGAAGGCAGGTGGCTACGATTTATTTGACACTGAGGCACGAAAGCATGGGGAGCGAACAGG'</dd><dt>80b063178d4c8e0047bb2d0653d300fd</dt><dd>'TACGAAGGGGGCTAGCGTTGTTCGGAATTACTGGGCGTAAAGGGTGCGTAGGCTGTTTTGTAAGTTAGATGTGAAAGCCTCGGTTTCAAGCTGAGAATAGCATTTAATACTGCAAGACTAGAGGATAAGAGAGGACAGGGGAATTCTGAGTGTAGAGGTAAAATTCGTAGATATTCAGAGGAACACCGGAGGCGAAAGCGCCTGTCTGGATTAATCCTGACGCTGAGGCACGAAAGTATGGGGAGCAAACAGG'</dd><dt>d46e2205f0c6ecf67b51f83d111c509c</dt><dd>'TACGGAGGGTGCAAGCGTTAATCGGAATTACTGGGCGTAAAGCGCACGCAGGCGGTTTGTTAAGTCAGATGTGAAATCCCCGGGCTCAACCTGGGAACTGCATCTGATACTGGCAAGCTTGAGTCTCGTAGAGGGGGGTAGAATTCCAGGTGTAGCGGTGAAATGCGTAGAGATCTGGAGGAATACCGGTGGCGAAGGCGGCCCCCTGGACGAAGACTGACGCTCAGGTGCGAAAGCGTGGGGAGCAAACAGG'</dd><dt>d7c175c5b206160e3c14ffd3ae2019d7</dt><dd>'TACGGAGGGTGCGAGCGTTAATCGGAATTACTGGGCGTAAAGCGTACGCAGGCGGTTTGTTAAGCGAGATGTGAAAGCCCCGGGCTCAACCTGGGAACTGCATTTCGAACTGGCAAACTAGAGTGTGATAGAGGGTGGTAGAATTTCAGGTGTAGCGGTGAAATGCGTAGAGATCTGAAGGAATACCGATGGCGAAGGCAGCCACCTGGGTCAACACTGACGCTCATGTACGAAAGCGTGGGGAGCAAACGGG'</dd></dl>\n"
      ],
      "text/latex": [
       "\\begin{description*}\n",
       "\\item[f41eb548cba466f8a672f4651a674958] 'TACGGAGGGTGCGAGCGTTAATCGGAATTACTGGGCGTAAAGCGCATGCAGGTGGTTTGTTAAGTCAGATGTGAAAGCCCGGGGCTCAACCTCGGAAGGTCATTTGAAACTGGCAAACTAGAGTACTGTAGAGGGGGGTAGAATTTCAGGTGTAGCGGTGAAATGCGTAGAGATCTGAAGGAATACCAGTGGCGAAGGCGGCCCCCTGGACAGATACTGACACTCAGATGCGAAAGCGTGGGGAGCAAACAGG'\n",
       "\\item[dda1c8a4aafcc6c3d1a4ae4b7bd73102] 'TACGGAGGGTCCAAGCGTTATCCGGAATCATTGGGTTTAAAGGGTTCGTAGGCGGGCTAATTAGTCAGAGGTGAAATCCAGCAGCTTAACTGTTGAACTGCCTTTGATACTGTTAGTCTTGAGTTATATGGAAGTAGATAGAATATGTAGTGTAGCGGTGAAATGCATAGATATTACATAGAATACCGATTGCGAAGGCAGTCTACTACGTATATACTGACGCTGATGAACGAAAGCGTGGGGAGCGAACGGG'\n",
       "\\item[394a72d1e51d2532c78dc8fdafbd0408] 'TACGGAGGGTGCGAGCGTTGTCCGGATTTATTGGGTTTAAAGGGTGCGTAGGTGGCTTGATAAGTCAGTGGTGAAATACATCCGCTTAACGGATGAGGTGCCATTGATACTGTTAAGCTTGAAAGAATTGGAGGCTGCCGGAATGGATGGTGTAGCGGTGAAATGCATAGATATCATCCAGAACACCGATTGCGAAGGCAGGTGGCTACGATTTATTTGACACTGAGGCACGAAAGCATGGGGAGCGAACAGG'\n",
       "\\item[80b063178d4c8e0047bb2d0653d300fd] 'TACGAAGGGGGCTAGCGTTGTTCGGAATTACTGGGCGTAAAGGGTGCGTAGGCTGTTTTGTAAGTTAGATGTGAAAGCCTCGGTTTCAAGCTGAGAATAGCATTTAATACTGCAAGACTAGAGGATAAGAGAGGACAGGGGAATTCTGAGTGTAGAGGTAAAATTCGTAGATATTCAGAGGAACACCGGAGGCGAAAGCGCCTGTCTGGATTAATCCTGACGCTGAGGCACGAAAGTATGGGGAGCAAACAGG'\n",
       "\\item[d46e2205f0c6ecf67b51f83d111c509c] 'TACGGAGGGTGCAAGCGTTAATCGGAATTACTGGGCGTAAAGCGCACGCAGGCGGTTTGTTAAGTCAGATGTGAAATCCCCGGGCTCAACCTGGGAACTGCATCTGATACTGGCAAGCTTGAGTCTCGTAGAGGGGGGTAGAATTCCAGGTGTAGCGGTGAAATGCGTAGAGATCTGGAGGAATACCGGTGGCGAAGGCGGCCCCCTGGACGAAGACTGACGCTCAGGTGCGAAAGCGTGGGGAGCAAACAGG'\n",
       "\\item[d7c175c5b206160e3c14ffd3ae2019d7] 'TACGGAGGGTGCGAGCGTTAATCGGAATTACTGGGCGTAAAGCGTACGCAGGCGGTTTGTTAAGCGAGATGTGAAAGCCCCGGGCTCAACCTGGGAACTGCATTTCGAACTGGCAAACTAGAGTGTGATAGAGGGTGGTAGAATTTCAGGTGTAGCGGTGAAATGCGTAGAGATCTGAAGGAATACCGATGGCGAAGGCAGCCACCTGGGTCAACACTGACGCTCATGTACGAAAGCGTGGGGAGCAAACGGG'\n",
       "\\end{description*}\n"
      ],
      "text/markdown": [
       "f41eb548cba466f8a672f4651a674958\n",
       ":   'TACGGAGGGTGCGAGCGTTAATCGGAATTACTGGGCGTAAAGCGCATGCAGGTGGTTTGTTAAGTCAGATGTGAAAGCCCGGGGCTCAACCTCGGAAGGTCATTTGAAACTGGCAAACTAGAGTACTGTAGAGGGGGGTAGAATTTCAGGTGTAGCGGTGAAATGCGTAGAGATCTGAAGGAATACCAGTGGCGAAGGCGGCCCCCTGGACAGATACTGACACTCAGATGCGAAAGCGTGGGGAGCAAACAGG'dda1c8a4aafcc6c3d1a4ae4b7bd73102\n",
       ":   'TACGGAGGGTCCAAGCGTTATCCGGAATCATTGGGTTTAAAGGGTTCGTAGGCGGGCTAATTAGTCAGAGGTGAAATCCAGCAGCTTAACTGTTGAACTGCCTTTGATACTGTTAGTCTTGAGTTATATGGAAGTAGATAGAATATGTAGTGTAGCGGTGAAATGCATAGATATTACATAGAATACCGATTGCGAAGGCAGTCTACTACGTATATACTGACGCTGATGAACGAAAGCGTGGGGAGCGAACGGG'394a72d1e51d2532c78dc8fdafbd0408\n",
       ":   'TACGGAGGGTGCGAGCGTTGTCCGGATTTATTGGGTTTAAAGGGTGCGTAGGTGGCTTGATAAGTCAGTGGTGAAATACATCCGCTTAACGGATGAGGTGCCATTGATACTGTTAAGCTTGAAAGAATTGGAGGCTGCCGGAATGGATGGTGTAGCGGTGAAATGCATAGATATCATCCAGAACACCGATTGCGAAGGCAGGTGGCTACGATTTATTTGACACTGAGGCACGAAAGCATGGGGAGCGAACAGG'80b063178d4c8e0047bb2d0653d300fd\n",
       ":   'TACGAAGGGGGCTAGCGTTGTTCGGAATTACTGGGCGTAAAGGGTGCGTAGGCTGTTTTGTAAGTTAGATGTGAAAGCCTCGGTTTCAAGCTGAGAATAGCATTTAATACTGCAAGACTAGAGGATAAGAGAGGACAGGGGAATTCTGAGTGTAGAGGTAAAATTCGTAGATATTCAGAGGAACACCGGAGGCGAAAGCGCCTGTCTGGATTAATCCTGACGCTGAGGCACGAAAGTATGGGGAGCAAACAGG'd46e2205f0c6ecf67b51f83d111c509c\n",
       ":   'TACGGAGGGTGCAAGCGTTAATCGGAATTACTGGGCGTAAAGCGCACGCAGGCGGTTTGTTAAGTCAGATGTGAAATCCCCGGGCTCAACCTGGGAACTGCATCTGATACTGGCAAGCTTGAGTCTCGTAGAGGGGGGTAGAATTCCAGGTGTAGCGGTGAAATGCGTAGAGATCTGGAGGAATACCGGTGGCGAAGGCGGCCCCCTGGACGAAGACTGACGCTCAGGTGCGAAAGCGTGGGGAGCAAACAGG'd7c175c5b206160e3c14ffd3ae2019d7\n",
       ":   'TACGGAGGGTGCGAGCGTTAATCGGAATTACTGGGCGTAAAGCGTACGCAGGCGGTTTGTTAAGCGAGATGTGAAAGCCCCGGGCTCAACCTGGGAACTGCATTTCGAACTGGCAAACTAGAGTGTGATAGAGGGTGGTAGAATTTCAGGTGTAGCGGTGAAATGCGTAGAGATCTGAAGGAATACCGATGGCGAAGGCAGCCACCTGGGTCAACACTGACGCTCATGTACGAAAGCGTGGGGAGCAAACGGG'\n",
       "\n"
      ],
      "text/plain": [
       "                                                                                                                                                                                                                               f41eb548cba466f8a672f4651a674958 \n",
       "\"TACGGAGGGTGCGAGCGTTAATCGGAATTACTGGGCGTAAAGCGCATGCAGGTGGTTTGTTAAGTCAGATGTGAAAGCCCGGGGCTCAACCTCGGAAGGTCATTTGAAACTGGCAAACTAGAGTACTGTAGAGGGGGGTAGAATTTCAGGTGTAGCGGTGAAATGCGTAGAGATCTGAAGGAATACCAGTGGCGAAGGCGGCCCCCTGGACAGATACTGACACTCAGATGCGAAAGCGTGGGGAGCAAACAGG\" \n",
       "                                                                                                                                                                                                                               dda1c8a4aafcc6c3d1a4ae4b7bd73102 \n",
       "\"TACGGAGGGTCCAAGCGTTATCCGGAATCATTGGGTTTAAAGGGTTCGTAGGCGGGCTAATTAGTCAGAGGTGAAATCCAGCAGCTTAACTGTTGAACTGCCTTTGATACTGTTAGTCTTGAGTTATATGGAAGTAGATAGAATATGTAGTGTAGCGGTGAAATGCATAGATATTACATAGAATACCGATTGCGAAGGCAGTCTACTACGTATATACTGACGCTGATGAACGAAAGCGTGGGGAGCGAACGGG\" \n",
       "                                                                                                                                                                                                                               394a72d1e51d2532c78dc8fdafbd0408 \n",
       "\"TACGGAGGGTGCGAGCGTTGTCCGGATTTATTGGGTTTAAAGGGTGCGTAGGTGGCTTGATAAGTCAGTGGTGAAATACATCCGCTTAACGGATGAGGTGCCATTGATACTGTTAAGCTTGAAAGAATTGGAGGCTGCCGGAATGGATGGTGTAGCGGTGAAATGCATAGATATCATCCAGAACACCGATTGCGAAGGCAGGTGGCTACGATTTATTTGACACTGAGGCACGAAAGCATGGGGAGCGAACAGG\" \n",
       "                                                                                                                                                                                                                               80b063178d4c8e0047bb2d0653d300fd \n",
       "\"TACGAAGGGGGCTAGCGTTGTTCGGAATTACTGGGCGTAAAGGGTGCGTAGGCTGTTTTGTAAGTTAGATGTGAAAGCCTCGGTTTCAAGCTGAGAATAGCATTTAATACTGCAAGACTAGAGGATAAGAGAGGACAGGGGAATTCTGAGTGTAGAGGTAAAATTCGTAGATATTCAGAGGAACACCGGAGGCGAAAGCGCCTGTCTGGATTAATCCTGACGCTGAGGCACGAAAGTATGGGGAGCAAACAGG\" \n",
       "                                                                                                                                                                                                                               d46e2205f0c6ecf67b51f83d111c509c \n",
       "\"TACGGAGGGTGCAAGCGTTAATCGGAATTACTGGGCGTAAAGCGCACGCAGGCGGTTTGTTAAGTCAGATGTGAAATCCCCGGGCTCAACCTGGGAACTGCATCTGATACTGGCAAGCTTGAGTCTCGTAGAGGGGGGTAGAATTCCAGGTGTAGCGGTGAAATGCGTAGAGATCTGGAGGAATACCGGTGGCGAAGGCGGCCCCCTGGACGAAGACTGACGCTCAGGTGCGAAAGCGTGGGGAGCAAACAGG\" \n",
       "                                                                                                                                                                                                                               d7c175c5b206160e3c14ffd3ae2019d7 \n",
       "\"TACGGAGGGTGCGAGCGTTAATCGGAATTACTGGGCGTAAAGCGTACGCAGGCGGTTTGTTAAGCGAGATGTGAAAGCCCCGGGCTCAACCTGGGAACTGCATTTCGAACTGGCAAACTAGAGTGTGATAGAGGGTGGTAGAATTTCAGGTGTAGCGGTGAAATGCGTAGAGATCTGAAGGAATACCGATGGCGAAGGCAGCCACCTGGGTCAACACTGACGCTCATGTACGAAAGCGTGGGGAGCAAACGGG\" "
      ]
     },
     "metadata": {},
     "output_type": "display_data"
    }
   ],
   "source": [
    "# transformation en vecteurs de charactères, necessaire pour la fonction assignTaxonomy\n",
    "seq_rdp_char <- as.character(seq_rdp)\n",
    "head(seq_rdp_char)"
   ]
  },
  {
   "cell_type": "markdown",
   "id": "af9e16f1-8d1b-4697-941c-403298ad9d28",
   "metadata": {},
   "source": [
    "## ASSIGNATION TAXONOMIQUE SELON LES DATABASES"
   ]
  },
  {
   "cell_type": "markdown",
   "id": "92ece4d7-6529-4acc-818a-2ebdc390d8ff",
   "metadata": {},
   "source": [
    "## 1) RDP"
   ]
  },
  {
   "cell_type": "code",
   "execution_count": 6,
   "id": "b8db972b-01fb-4ec9-a0f0-737d0df615ad",
   "metadata": {},
   "outputs": [
    {
     "data": {
      "text/html": [
       "<table class=\"dataframe\">\n",
       "<caption>A matrix: 6 × 7 of type chr</caption>\n",
       "<thead>\n",
       "\t<tr><th></th><th scope=col>Kingdom</th><th scope=col>Phylum</th><th scope=col>Class</th><th scope=col>Order</th><th scope=col>Family</th><th scope=col>Genus</th><th scope=col>Species</th></tr>\n",
       "</thead>\n",
       "<tbody>\n",
       "\t<tr><th scope=row>TACGGAGGGTGCGAGCGTTAATCGGAATTACTGGGCGTAAAGCGCATGCAGGTGGTTTGTTAAGTCAGATGTGAAAGCCCGGGGCTCAACCTCGGAAGGTCATTTGAAACTGGCAAACTAGAGTACTGTAGAGGGGGGTAGAATTTCAGGTGTAGCGGTGAAATGCGTAGAGATCTGAAGGAATACCAGTGGCGAAGGCGGCCCCCTGGACAGATACTGACACTCAGATGCGAAAGCGTGGGGAGCAAACAGG</th><td>Bacteria</td><td>Pseudomonadota</td><td>Gammaproteobacteria</td><td>Vibrionales     </td><td>Vibrionaceae          </td><td>Vibrio              </td><td>NA         </td></tr>\n",
       "\t<tr><th scope=row>TACGGAGGGTCCAAGCGTTATCCGGAATCATTGGGTTTAAAGGGTTCGTAGGCGGGCTAATTAGTCAGAGGTGAAATCCAGCAGCTTAACTGTTGAACTGCCTTTGATACTGTTAGTCTTGAGTTATATGGAAGTAGATAGAATATGTAGTGTAGCGGTGAAATGCATAGATATTACATAGAATACCGATTGCGAAGGCAGTCTACTACGTATATACTGACGCTGATGAACGAAAGCGTGGGGAGCGAACGGG</th><td>Bacteria</td><td>Bacteroidota  </td><td>Flavobacteriia     </td><td>Flavobacteriales</td><td>Flavobacteriaceae     </td><td>Wenyingzhuangia     </td><td>gracilariae</td></tr>\n",
       "\t<tr><th scope=row>TACGGAGGGTGCGAGCGTTGTCCGGATTTATTGGGTTTAAAGGGTGCGTAGGTGGCTTGATAAGTCAGTGGTGAAATACATCCGCTTAACGGATGAGGTGCCATTGATACTGTTAAGCTTGAAAGAATTGGAGGCTGCCGGAATGGATGGTGTAGCGGTGAAATGCATAGATATCATCCAGAACACCGATTGCGAAGGCAGGTGGCTACGATTTATTTGACACTGAGGCACGAAAGCATGGGGAGCGAACAGG</th><td>Bacteria</td><td>Bacteroidota  </td><td>Cytophagia         </td><td>Cytophagales    </td><td>Spirosomaceae         </td><td>Dyadobacter         </td><td>jejuensis  </td></tr>\n",
       "\t<tr><th scope=row>TACGAAGGGGGCTAGCGTTGTTCGGAATTACTGGGCGTAAAGGGTGCGTAGGCTGTTTTGTAAGTTAGATGTGAAAGCCTCGGTTTCAAGCTGAGAATAGCATTTAATACTGCAAGACTAGAGGATAAGAGAGGACAGGGGAATTCTGAGTGTAGAGGTAAAATTCGTAGATATTCAGAGGAACACCGGAGGCGAAAGCGCCTGTCTGGATTAATCCTGACGCTGAGGCACGAAAGTATGGGGAGCAAACAGG</th><td>Bacteria</td><td>Pseudomonadota</td><td>Alphaproteobacteria</td><td>NA              </td><td>NA                    </td><td>NA                  </td><td>NA         </td></tr>\n",
       "\t<tr><th scope=row>TACGGAGGGTGCAAGCGTTAATCGGAATTACTGGGCGTAAAGCGCACGCAGGCGGTTTGTTAAGTCAGATGTGAAATCCCCGGGCTCAACCTGGGAACTGCATCTGATACTGGCAAGCTTGAGTCTCGTAGAGGGGGGTAGAATTCCAGGTGTAGCGGTGAAATGCGTAGAGATCTGGAGGAATACCGGTGGCGAAGGCGGCCCCCTGGACGAAGACTGACGCTCAGGTGCGAAAGCGTGGGGAGCAAACAGG</th><td>Bacteria</td><td>Pseudomonadota</td><td>Gammaproteobacteria</td><td>Enterobacterales</td><td>Enterobacteriaceae    </td><td>Escherichia/Shigella</td><td>coli       </td></tr>\n",
       "\t<tr><th scope=row>TACGGAGGGTGCGAGCGTTAATCGGAATTACTGGGCGTAAAGCGTACGCAGGCGGTTTGTTAAGCGAGATGTGAAAGCCCCGGGCTCAACCTGGGAACTGCATTTCGAACTGGCAAACTAGAGTGTGATAGAGGGTGGTAGAATTTCAGGTGTAGCGGTGAAATGCGTAGAGATCTGAAGGAATACCGATGGCGAAGGCAGCCACCTGGGTCAACACTGACGCTCATGTACGAAAGCGTGGGGAGCAAACGGG</th><td>Bacteria</td><td>Pseudomonadota</td><td>Gammaproteobacteria</td><td>Alteromonadales </td><td>Pseudoalteromonadaceae</td><td>Pseudoalteromonas   </td><td>NA         </td></tr>\n",
       "</tbody>\n",
       "</table>\n"
      ],
      "text/latex": [
       "A matrix: 6 × 7 of type chr\n",
       "\\begin{tabular}{r|lllllll}\n",
       "  & Kingdom & Phylum & Class & Order & Family & Genus & Species\\\\\n",
       "\\hline\n",
       "\tTACGGAGGGTGCGAGCGTTAATCGGAATTACTGGGCGTAAAGCGCATGCAGGTGGTTTGTTAAGTCAGATGTGAAAGCCCGGGGCTCAACCTCGGAAGGTCATTTGAAACTGGCAAACTAGAGTACTGTAGAGGGGGGTAGAATTTCAGGTGTAGCGGTGAAATGCGTAGAGATCTGAAGGAATACCAGTGGCGAAGGCGGCCCCCTGGACAGATACTGACACTCAGATGCGAAAGCGTGGGGAGCAAACAGG & Bacteria & Pseudomonadota & Gammaproteobacteria & Vibrionales      & Vibrionaceae           & Vibrio               & NA         \\\\\n",
       "\tTACGGAGGGTCCAAGCGTTATCCGGAATCATTGGGTTTAAAGGGTTCGTAGGCGGGCTAATTAGTCAGAGGTGAAATCCAGCAGCTTAACTGTTGAACTGCCTTTGATACTGTTAGTCTTGAGTTATATGGAAGTAGATAGAATATGTAGTGTAGCGGTGAAATGCATAGATATTACATAGAATACCGATTGCGAAGGCAGTCTACTACGTATATACTGACGCTGATGAACGAAAGCGTGGGGAGCGAACGGG & Bacteria & Bacteroidota   & Flavobacteriia      & Flavobacteriales & Flavobacteriaceae      & Wenyingzhuangia      & gracilariae\\\\\n",
       "\tTACGGAGGGTGCGAGCGTTGTCCGGATTTATTGGGTTTAAAGGGTGCGTAGGTGGCTTGATAAGTCAGTGGTGAAATACATCCGCTTAACGGATGAGGTGCCATTGATACTGTTAAGCTTGAAAGAATTGGAGGCTGCCGGAATGGATGGTGTAGCGGTGAAATGCATAGATATCATCCAGAACACCGATTGCGAAGGCAGGTGGCTACGATTTATTTGACACTGAGGCACGAAAGCATGGGGAGCGAACAGG & Bacteria & Bacteroidota   & Cytophagia          & Cytophagales     & Spirosomaceae          & Dyadobacter          & jejuensis  \\\\\n",
       "\tTACGAAGGGGGCTAGCGTTGTTCGGAATTACTGGGCGTAAAGGGTGCGTAGGCTGTTTTGTAAGTTAGATGTGAAAGCCTCGGTTTCAAGCTGAGAATAGCATTTAATACTGCAAGACTAGAGGATAAGAGAGGACAGGGGAATTCTGAGTGTAGAGGTAAAATTCGTAGATATTCAGAGGAACACCGGAGGCGAAAGCGCCTGTCTGGATTAATCCTGACGCTGAGGCACGAAAGTATGGGGAGCAAACAGG & Bacteria & Pseudomonadota & Alphaproteobacteria & NA               & NA                     & NA                   & NA         \\\\\n",
       "\tTACGGAGGGTGCAAGCGTTAATCGGAATTACTGGGCGTAAAGCGCACGCAGGCGGTTTGTTAAGTCAGATGTGAAATCCCCGGGCTCAACCTGGGAACTGCATCTGATACTGGCAAGCTTGAGTCTCGTAGAGGGGGGTAGAATTCCAGGTGTAGCGGTGAAATGCGTAGAGATCTGGAGGAATACCGGTGGCGAAGGCGGCCCCCTGGACGAAGACTGACGCTCAGGTGCGAAAGCGTGGGGAGCAAACAGG & Bacteria & Pseudomonadota & Gammaproteobacteria & Enterobacterales & Enterobacteriaceae     & Escherichia/Shigella & coli       \\\\\n",
       "\tTACGGAGGGTGCGAGCGTTAATCGGAATTACTGGGCGTAAAGCGTACGCAGGCGGTTTGTTAAGCGAGATGTGAAAGCCCCGGGCTCAACCTGGGAACTGCATTTCGAACTGGCAAACTAGAGTGTGATAGAGGGTGGTAGAATTTCAGGTGTAGCGGTGAAATGCGTAGAGATCTGAAGGAATACCGATGGCGAAGGCAGCCACCTGGGTCAACACTGACGCTCATGTACGAAAGCGTGGGGAGCAAACGGG & Bacteria & Pseudomonadota & Gammaproteobacteria & Alteromonadales  & Pseudoalteromonadaceae & Pseudoalteromonas    & NA         \\\\\n",
       "\\end{tabular}\n"
      ],
      "text/markdown": [
       "\n",
       "A matrix: 6 × 7 of type chr\n",
       "\n",
       "| <!--/--> | Kingdom | Phylum | Class | Order | Family | Genus | Species |\n",
       "|---|---|---|---|---|---|---|---|\n",
       "| TACGGAGGGTGCGAGCGTTAATCGGAATTACTGGGCGTAAAGCGCATGCAGGTGGTTTGTTAAGTCAGATGTGAAAGCCCGGGGCTCAACCTCGGAAGGTCATTTGAAACTGGCAAACTAGAGTACTGTAGAGGGGGGTAGAATTTCAGGTGTAGCGGTGAAATGCGTAGAGATCTGAAGGAATACCAGTGGCGAAGGCGGCCCCCTGGACAGATACTGACACTCAGATGCGAAAGCGTGGGGAGCAAACAGG | Bacteria | Pseudomonadota | Gammaproteobacteria | Vibrionales      | Vibrionaceae           | Vibrio               | NA          |\n",
       "| TACGGAGGGTCCAAGCGTTATCCGGAATCATTGGGTTTAAAGGGTTCGTAGGCGGGCTAATTAGTCAGAGGTGAAATCCAGCAGCTTAACTGTTGAACTGCCTTTGATACTGTTAGTCTTGAGTTATATGGAAGTAGATAGAATATGTAGTGTAGCGGTGAAATGCATAGATATTACATAGAATACCGATTGCGAAGGCAGTCTACTACGTATATACTGACGCTGATGAACGAAAGCGTGGGGAGCGAACGGG | Bacteria | Bacteroidota   | Flavobacteriia      | Flavobacteriales | Flavobacteriaceae      | Wenyingzhuangia      | gracilariae |\n",
       "| TACGGAGGGTGCGAGCGTTGTCCGGATTTATTGGGTTTAAAGGGTGCGTAGGTGGCTTGATAAGTCAGTGGTGAAATACATCCGCTTAACGGATGAGGTGCCATTGATACTGTTAAGCTTGAAAGAATTGGAGGCTGCCGGAATGGATGGTGTAGCGGTGAAATGCATAGATATCATCCAGAACACCGATTGCGAAGGCAGGTGGCTACGATTTATTTGACACTGAGGCACGAAAGCATGGGGAGCGAACAGG | Bacteria | Bacteroidota   | Cytophagia          | Cytophagales     | Spirosomaceae          | Dyadobacter          | jejuensis   |\n",
       "| TACGAAGGGGGCTAGCGTTGTTCGGAATTACTGGGCGTAAAGGGTGCGTAGGCTGTTTTGTAAGTTAGATGTGAAAGCCTCGGTTTCAAGCTGAGAATAGCATTTAATACTGCAAGACTAGAGGATAAGAGAGGACAGGGGAATTCTGAGTGTAGAGGTAAAATTCGTAGATATTCAGAGGAACACCGGAGGCGAAAGCGCCTGTCTGGATTAATCCTGACGCTGAGGCACGAAAGTATGGGGAGCAAACAGG | Bacteria | Pseudomonadota | Alphaproteobacteria | NA               | NA                     | NA                   | NA          |\n",
       "| TACGGAGGGTGCAAGCGTTAATCGGAATTACTGGGCGTAAAGCGCACGCAGGCGGTTTGTTAAGTCAGATGTGAAATCCCCGGGCTCAACCTGGGAACTGCATCTGATACTGGCAAGCTTGAGTCTCGTAGAGGGGGGTAGAATTCCAGGTGTAGCGGTGAAATGCGTAGAGATCTGGAGGAATACCGGTGGCGAAGGCGGCCCCCTGGACGAAGACTGACGCTCAGGTGCGAAAGCGTGGGGAGCAAACAGG | Bacteria | Pseudomonadota | Gammaproteobacteria | Enterobacterales | Enterobacteriaceae     | Escherichia/Shigella | coli        |\n",
       "| TACGGAGGGTGCGAGCGTTAATCGGAATTACTGGGCGTAAAGCGTACGCAGGCGGTTTGTTAAGCGAGATGTGAAAGCCCCGGGCTCAACCTGGGAACTGCATTTCGAACTGGCAAACTAGAGTGTGATAGAGGGTGGTAGAATTTCAGGTGTAGCGGTGAAATGCGTAGAGATCTGAAGGAATACCGATGGCGAAGGCAGCCACCTGGGTCAACACTGACGCTCATGTACGAAAGCGTGGGGAGCAAACGGG | Bacteria | Pseudomonadota | Gammaproteobacteria | Alteromonadales  | Pseudoalteromonadaceae | Pseudoalteromonas    | NA          |\n",
       "\n"
      ],
      "text/plain": [
       "                                                                                                                                                                                                                                                              Kingdom \n",
       "TACGGAGGGTGCGAGCGTTAATCGGAATTACTGGGCGTAAAGCGCATGCAGGTGGTTTGTTAAGTCAGATGTGAAAGCCCGGGGCTCAACCTCGGAAGGTCATTTGAAACTGGCAAACTAGAGTACTGTAGAGGGGGGTAGAATTTCAGGTGTAGCGGTGAAATGCGTAGAGATCTGAAGGAATACCAGTGGCGAAGGCGGCCCCCTGGACAGATACTGACACTCAGATGCGAAAGCGTGGGGAGCAAACAGG Bacteria\n",
       "TACGGAGGGTCCAAGCGTTATCCGGAATCATTGGGTTTAAAGGGTTCGTAGGCGGGCTAATTAGTCAGAGGTGAAATCCAGCAGCTTAACTGTTGAACTGCCTTTGATACTGTTAGTCTTGAGTTATATGGAAGTAGATAGAATATGTAGTGTAGCGGTGAAATGCATAGATATTACATAGAATACCGATTGCGAAGGCAGTCTACTACGTATATACTGACGCTGATGAACGAAAGCGTGGGGAGCGAACGGG Bacteria\n",
       "TACGGAGGGTGCGAGCGTTGTCCGGATTTATTGGGTTTAAAGGGTGCGTAGGTGGCTTGATAAGTCAGTGGTGAAATACATCCGCTTAACGGATGAGGTGCCATTGATACTGTTAAGCTTGAAAGAATTGGAGGCTGCCGGAATGGATGGTGTAGCGGTGAAATGCATAGATATCATCCAGAACACCGATTGCGAAGGCAGGTGGCTACGATTTATTTGACACTGAGGCACGAAAGCATGGGGAGCGAACAGG Bacteria\n",
       "TACGAAGGGGGCTAGCGTTGTTCGGAATTACTGGGCGTAAAGGGTGCGTAGGCTGTTTTGTAAGTTAGATGTGAAAGCCTCGGTTTCAAGCTGAGAATAGCATTTAATACTGCAAGACTAGAGGATAAGAGAGGACAGGGGAATTCTGAGTGTAGAGGTAAAATTCGTAGATATTCAGAGGAACACCGGAGGCGAAAGCGCCTGTCTGGATTAATCCTGACGCTGAGGCACGAAAGTATGGGGAGCAAACAGG Bacteria\n",
       "TACGGAGGGTGCAAGCGTTAATCGGAATTACTGGGCGTAAAGCGCACGCAGGCGGTTTGTTAAGTCAGATGTGAAATCCCCGGGCTCAACCTGGGAACTGCATCTGATACTGGCAAGCTTGAGTCTCGTAGAGGGGGGTAGAATTCCAGGTGTAGCGGTGAAATGCGTAGAGATCTGGAGGAATACCGGTGGCGAAGGCGGCCCCCTGGACGAAGACTGACGCTCAGGTGCGAAAGCGTGGGGAGCAAACAGG Bacteria\n",
       "TACGGAGGGTGCGAGCGTTAATCGGAATTACTGGGCGTAAAGCGTACGCAGGCGGTTTGTTAAGCGAGATGTGAAAGCCCCGGGCTCAACCTGGGAACTGCATTTCGAACTGGCAAACTAGAGTGTGATAGAGGGTGGTAGAATTTCAGGTGTAGCGGTGAAATGCGTAGAGATCTGAAGGAATACCGATGGCGAAGGCAGCCACCTGGGTCAACACTGACGCTCATGTACGAAAGCGTGGGGAGCAAACGGG Bacteria\n",
       "                                                                                                                                                                                                                                                              Phylum        \n",
       "TACGGAGGGTGCGAGCGTTAATCGGAATTACTGGGCGTAAAGCGCATGCAGGTGGTTTGTTAAGTCAGATGTGAAAGCCCGGGGCTCAACCTCGGAAGGTCATTTGAAACTGGCAAACTAGAGTACTGTAGAGGGGGGTAGAATTTCAGGTGTAGCGGTGAAATGCGTAGAGATCTGAAGGAATACCAGTGGCGAAGGCGGCCCCCTGGACAGATACTGACACTCAGATGCGAAAGCGTGGGGAGCAAACAGG Pseudomonadota\n",
       "TACGGAGGGTCCAAGCGTTATCCGGAATCATTGGGTTTAAAGGGTTCGTAGGCGGGCTAATTAGTCAGAGGTGAAATCCAGCAGCTTAACTGTTGAACTGCCTTTGATACTGTTAGTCTTGAGTTATATGGAAGTAGATAGAATATGTAGTGTAGCGGTGAAATGCATAGATATTACATAGAATACCGATTGCGAAGGCAGTCTACTACGTATATACTGACGCTGATGAACGAAAGCGTGGGGAGCGAACGGG Bacteroidota  \n",
       "TACGGAGGGTGCGAGCGTTGTCCGGATTTATTGGGTTTAAAGGGTGCGTAGGTGGCTTGATAAGTCAGTGGTGAAATACATCCGCTTAACGGATGAGGTGCCATTGATACTGTTAAGCTTGAAAGAATTGGAGGCTGCCGGAATGGATGGTGTAGCGGTGAAATGCATAGATATCATCCAGAACACCGATTGCGAAGGCAGGTGGCTACGATTTATTTGACACTGAGGCACGAAAGCATGGGGAGCGAACAGG Bacteroidota  \n",
       "TACGAAGGGGGCTAGCGTTGTTCGGAATTACTGGGCGTAAAGGGTGCGTAGGCTGTTTTGTAAGTTAGATGTGAAAGCCTCGGTTTCAAGCTGAGAATAGCATTTAATACTGCAAGACTAGAGGATAAGAGAGGACAGGGGAATTCTGAGTGTAGAGGTAAAATTCGTAGATATTCAGAGGAACACCGGAGGCGAAAGCGCCTGTCTGGATTAATCCTGACGCTGAGGCACGAAAGTATGGGGAGCAAACAGG Pseudomonadota\n",
       "TACGGAGGGTGCAAGCGTTAATCGGAATTACTGGGCGTAAAGCGCACGCAGGCGGTTTGTTAAGTCAGATGTGAAATCCCCGGGCTCAACCTGGGAACTGCATCTGATACTGGCAAGCTTGAGTCTCGTAGAGGGGGGTAGAATTCCAGGTGTAGCGGTGAAATGCGTAGAGATCTGGAGGAATACCGGTGGCGAAGGCGGCCCCCTGGACGAAGACTGACGCTCAGGTGCGAAAGCGTGGGGAGCAAACAGG Pseudomonadota\n",
       "TACGGAGGGTGCGAGCGTTAATCGGAATTACTGGGCGTAAAGCGTACGCAGGCGGTTTGTTAAGCGAGATGTGAAAGCCCCGGGCTCAACCTGGGAACTGCATTTCGAACTGGCAAACTAGAGTGTGATAGAGGGTGGTAGAATTTCAGGTGTAGCGGTGAAATGCGTAGAGATCTGAAGGAATACCGATGGCGAAGGCAGCCACCTGGGTCAACACTGACGCTCATGTACGAAAGCGTGGGGAGCAAACGGG Pseudomonadota\n",
       "                                                                                                                                                                                                                                                              Class              \n",
       "TACGGAGGGTGCGAGCGTTAATCGGAATTACTGGGCGTAAAGCGCATGCAGGTGGTTTGTTAAGTCAGATGTGAAAGCCCGGGGCTCAACCTCGGAAGGTCATTTGAAACTGGCAAACTAGAGTACTGTAGAGGGGGGTAGAATTTCAGGTGTAGCGGTGAAATGCGTAGAGATCTGAAGGAATACCAGTGGCGAAGGCGGCCCCCTGGACAGATACTGACACTCAGATGCGAAAGCGTGGGGAGCAAACAGG Gammaproteobacteria\n",
       "TACGGAGGGTCCAAGCGTTATCCGGAATCATTGGGTTTAAAGGGTTCGTAGGCGGGCTAATTAGTCAGAGGTGAAATCCAGCAGCTTAACTGTTGAACTGCCTTTGATACTGTTAGTCTTGAGTTATATGGAAGTAGATAGAATATGTAGTGTAGCGGTGAAATGCATAGATATTACATAGAATACCGATTGCGAAGGCAGTCTACTACGTATATACTGACGCTGATGAACGAAAGCGTGGGGAGCGAACGGG Flavobacteriia     \n",
       "TACGGAGGGTGCGAGCGTTGTCCGGATTTATTGGGTTTAAAGGGTGCGTAGGTGGCTTGATAAGTCAGTGGTGAAATACATCCGCTTAACGGATGAGGTGCCATTGATACTGTTAAGCTTGAAAGAATTGGAGGCTGCCGGAATGGATGGTGTAGCGGTGAAATGCATAGATATCATCCAGAACACCGATTGCGAAGGCAGGTGGCTACGATTTATTTGACACTGAGGCACGAAAGCATGGGGAGCGAACAGG Cytophagia         \n",
       "TACGAAGGGGGCTAGCGTTGTTCGGAATTACTGGGCGTAAAGGGTGCGTAGGCTGTTTTGTAAGTTAGATGTGAAAGCCTCGGTTTCAAGCTGAGAATAGCATTTAATACTGCAAGACTAGAGGATAAGAGAGGACAGGGGAATTCTGAGTGTAGAGGTAAAATTCGTAGATATTCAGAGGAACACCGGAGGCGAAAGCGCCTGTCTGGATTAATCCTGACGCTGAGGCACGAAAGTATGGGGAGCAAACAGG Alphaproteobacteria\n",
       "TACGGAGGGTGCAAGCGTTAATCGGAATTACTGGGCGTAAAGCGCACGCAGGCGGTTTGTTAAGTCAGATGTGAAATCCCCGGGCTCAACCTGGGAACTGCATCTGATACTGGCAAGCTTGAGTCTCGTAGAGGGGGGTAGAATTCCAGGTGTAGCGGTGAAATGCGTAGAGATCTGGAGGAATACCGGTGGCGAAGGCGGCCCCCTGGACGAAGACTGACGCTCAGGTGCGAAAGCGTGGGGAGCAAACAGG Gammaproteobacteria\n",
       "TACGGAGGGTGCGAGCGTTAATCGGAATTACTGGGCGTAAAGCGTACGCAGGCGGTTTGTTAAGCGAGATGTGAAAGCCCCGGGCTCAACCTGGGAACTGCATTTCGAACTGGCAAACTAGAGTGTGATAGAGGGTGGTAGAATTTCAGGTGTAGCGGTGAAATGCGTAGAGATCTGAAGGAATACCGATGGCGAAGGCAGCCACCTGGGTCAACACTGACGCTCATGTACGAAAGCGTGGGGAGCAAACGGG Gammaproteobacteria\n",
       "                                                                                                                                                                                                                                                              Order           \n",
       "TACGGAGGGTGCGAGCGTTAATCGGAATTACTGGGCGTAAAGCGCATGCAGGTGGTTTGTTAAGTCAGATGTGAAAGCCCGGGGCTCAACCTCGGAAGGTCATTTGAAACTGGCAAACTAGAGTACTGTAGAGGGGGGTAGAATTTCAGGTGTAGCGGTGAAATGCGTAGAGATCTGAAGGAATACCAGTGGCGAAGGCGGCCCCCTGGACAGATACTGACACTCAGATGCGAAAGCGTGGGGAGCAAACAGG Vibrionales     \n",
       "TACGGAGGGTCCAAGCGTTATCCGGAATCATTGGGTTTAAAGGGTTCGTAGGCGGGCTAATTAGTCAGAGGTGAAATCCAGCAGCTTAACTGTTGAACTGCCTTTGATACTGTTAGTCTTGAGTTATATGGAAGTAGATAGAATATGTAGTGTAGCGGTGAAATGCATAGATATTACATAGAATACCGATTGCGAAGGCAGTCTACTACGTATATACTGACGCTGATGAACGAAAGCGTGGGGAGCGAACGGG Flavobacteriales\n",
       "TACGGAGGGTGCGAGCGTTGTCCGGATTTATTGGGTTTAAAGGGTGCGTAGGTGGCTTGATAAGTCAGTGGTGAAATACATCCGCTTAACGGATGAGGTGCCATTGATACTGTTAAGCTTGAAAGAATTGGAGGCTGCCGGAATGGATGGTGTAGCGGTGAAATGCATAGATATCATCCAGAACACCGATTGCGAAGGCAGGTGGCTACGATTTATTTGACACTGAGGCACGAAAGCATGGGGAGCGAACAGG Cytophagales    \n",
       "TACGAAGGGGGCTAGCGTTGTTCGGAATTACTGGGCGTAAAGGGTGCGTAGGCTGTTTTGTAAGTTAGATGTGAAAGCCTCGGTTTCAAGCTGAGAATAGCATTTAATACTGCAAGACTAGAGGATAAGAGAGGACAGGGGAATTCTGAGTGTAGAGGTAAAATTCGTAGATATTCAGAGGAACACCGGAGGCGAAAGCGCCTGTCTGGATTAATCCTGACGCTGAGGCACGAAAGTATGGGGAGCAAACAGG NA              \n",
       "TACGGAGGGTGCAAGCGTTAATCGGAATTACTGGGCGTAAAGCGCACGCAGGCGGTTTGTTAAGTCAGATGTGAAATCCCCGGGCTCAACCTGGGAACTGCATCTGATACTGGCAAGCTTGAGTCTCGTAGAGGGGGGTAGAATTCCAGGTGTAGCGGTGAAATGCGTAGAGATCTGGAGGAATACCGGTGGCGAAGGCGGCCCCCTGGACGAAGACTGACGCTCAGGTGCGAAAGCGTGGGGAGCAAACAGG Enterobacterales\n",
       "TACGGAGGGTGCGAGCGTTAATCGGAATTACTGGGCGTAAAGCGTACGCAGGCGGTTTGTTAAGCGAGATGTGAAAGCCCCGGGCTCAACCTGGGAACTGCATTTCGAACTGGCAAACTAGAGTGTGATAGAGGGTGGTAGAATTTCAGGTGTAGCGGTGAAATGCGTAGAGATCTGAAGGAATACCGATGGCGAAGGCAGCCACCTGGGTCAACACTGACGCTCATGTACGAAAGCGTGGGGAGCAAACGGG Alteromonadales \n",
       "                                                                                                                                                                                                                                                              Family                \n",
       "TACGGAGGGTGCGAGCGTTAATCGGAATTACTGGGCGTAAAGCGCATGCAGGTGGTTTGTTAAGTCAGATGTGAAAGCCCGGGGCTCAACCTCGGAAGGTCATTTGAAACTGGCAAACTAGAGTACTGTAGAGGGGGGTAGAATTTCAGGTGTAGCGGTGAAATGCGTAGAGATCTGAAGGAATACCAGTGGCGAAGGCGGCCCCCTGGACAGATACTGACACTCAGATGCGAAAGCGTGGGGAGCAAACAGG Vibrionaceae          \n",
       "TACGGAGGGTCCAAGCGTTATCCGGAATCATTGGGTTTAAAGGGTTCGTAGGCGGGCTAATTAGTCAGAGGTGAAATCCAGCAGCTTAACTGTTGAACTGCCTTTGATACTGTTAGTCTTGAGTTATATGGAAGTAGATAGAATATGTAGTGTAGCGGTGAAATGCATAGATATTACATAGAATACCGATTGCGAAGGCAGTCTACTACGTATATACTGACGCTGATGAACGAAAGCGTGGGGAGCGAACGGG Flavobacteriaceae     \n",
       "TACGGAGGGTGCGAGCGTTGTCCGGATTTATTGGGTTTAAAGGGTGCGTAGGTGGCTTGATAAGTCAGTGGTGAAATACATCCGCTTAACGGATGAGGTGCCATTGATACTGTTAAGCTTGAAAGAATTGGAGGCTGCCGGAATGGATGGTGTAGCGGTGAAATGCATAGATATCATCCAGAACACCGATTGCGAAGGCAGGTGGCTACGATTTATTTGACACTGAGGCACGAAAGCATGGGGAGCGAACAGG Spirosomaceae         \n",
       "TACGAAGGGGGCTAGCGTTGTTCGGAATTACTGGGCGTAAAGGGTGCGTAGGCTGTTTTGTAAGTTAGATGTGAAAGCCTCGGTTTCAAGCTGAGAATAGCATTTAATACTGCAAGACTAGAGGATAAGAGAGGACAGGGGAATTCTGAGTGTAGAGGTAAAATTCGTAGATATTCAGAGGAACACCGGAGGCGAAAGCGCCTGTCTGGATTAATCCTGACGCTGAGGCACGAAAGTATGGGGAGCAAACAGG NA                    \n",
       "TACGGAGGGTGCAAGCGTTAATCGGAATTACTGGGCGTAAAGCGCACGCAGGCGGTTTGTTAAGTCAGATGTGAAATCCCCGGGCTCAACCTGGGAACTGCATCTGATACTGGCAAGCTTGAGTCTCGTAGAGGGGGGTAGAATTCCAGGTGTAGCGGTGAAATGCGTAGAGATCTGGAGGAATACCGGTGGCGAAGGCGGCCCCCTGGACGAAGACTGACGCTCAGGTGCGAAAGCGTGGGGAGCAAACAGG Enterobacteriaceae    \n",
       "TACGGAGGGTGCGAGCGTTAATCGGAATTACTGGGCGTAAAGCGTACGCAGGCGGTTTGTTAAGCGAGATGTGAAAGCCCCGGGCTCAACCTGGGAACTGCATTTCGAACTGGCAAACTAGAGTGTGATAGAGGGTGGTAGAATTTCAGGTGTAGCGGTGAAATGCGTAGAGATCTGAAGGAATACCGATGGCGAAGGCAGCCACCTGGGTCAACACTGACGCTCATGTACGAAAGCGTGGGGAGCAAACGGG Pseudoalteromonadaceae\n",
       "                                                                                                                                                                                                                                                              Genus               \n",
       "TACGGAGGGTGCGAGCGTTAATCGGAATTACTGGGCGTAAAGCGCATGCAGGTGGTTTGTTAAGTCAGATGTGAAAGCCCGGGGCTCAACCTCGGAAGGTCATTTGAAACTGGCAAACTAGAGTACTGTAGAGGGGGGTAGAATTTCAGGTGTAGCGGTGAAATGCGTAGAGATCTGAAGGAATACCAGTGGCGAAGGCGGCCCCCTGGACAGATACTGACACTCAGATGCGAAAGCGTGGGGAGCAAACAGG Vibrio              \n",
       "TACGGAGGGTCCAAGCGTTATCCGGAATCATTGGGTTTAAAGGGTTCGTAGGCGGGCTAATTAGTCAGAGGTGAAATCCAGCAGCTTAACTGTTGAACTGCCTTTGATACTGTTAGTCTTGAGTTATATGGAAGTAGATAGAATATGTAGTGTAGCGGTGAAATGCATAGATATTACATAGAATACCGATTGCGAAGGCAGTCTACTACGTATATACTGACGCTGATGAACGAAAGCGTGGGGAGCGAACGGG Wenyingzhuangia     \n",
       "TACGGAGGGTGCGAGCGTTGTCCGGATTTATTGGGTTTAAAGGGTGCGTAGGTGGCTTGATAAGTCAGTGGTGAAATACATCCGCTTAACGGATGAGGTGCCATTGATACTGTTAAGCTTGAAAGAATTGGAGGCTGCCGGAATGGATGGTGTAGCGGTGAAATGCATAGATATCATCCAGAACACCGATTGCGAAGGCAGGTGGCTACGATTTATTTGACACTGAGGCACGAAAGCATGGGGAGCGAACAGG Dyadobacter         \n",
       "TACGAAGGGGGCTAGCGTTGTTCGGAATTACTGGGCGTAAAGGGTGCGTAGGCTGTTTTGTAAGTTAGATGTGAAAGCCTCGGTTTCAAGCTGAGAATAGCATTTAATACTGCAAGACTAGAGGATAAGAGAGGACAGGGGAATTCTGAGTGTAGAGGTAAAATTCGTAGATATTCAGAGGAACACCGGAGGCGAAAGCGCCTGTCTGGATTAATCCTGACGCTGAGGCACGAAAGTATGGGGAGCAAACAGG NA                  \n",
       "TACGGAGGGTGCAAGCGTTAATCGGAATTACTGGGCGTAAAGCGCACGCAGGCGGTTTGTTAAGTCAGATGTGAAATCCCCGGGCTCAACCTGGGAACTGCATCTGATACTGGCAAGCTTGAGTCTCGTAGAGGGGGGTAGAATTCCAGGTGTAGCGGTGAAATGCGTAGAGATCTGGAGGAATACCGGTGGCGAAGGCGGCCCCCTGGACGAAGACTGACGCTCAGGTGCGAAAGCGTGGGGAGCAAACAGG Escherichia/Shigella\n",
       "TACGGAGGGTGCGAGCGTTAATCGGAATTACTGGGCGTAAAGCGTACGCAGGCGGTTTGTTAAGCGAGATGTGAAAGCCCCGGGCTCAACCTGGGAACTGCATTTCGAACTGGCAAACTAGAGTGTGATAGAGGGTGGTAGAATTTCAGGTGTAGCGGTGAAATGCGTAGAGATCTGAAGGAATACCGATGGCGAAGGCAGCCACCTGGGTCAACACTGACGCTCATGTACGAAAGCGTGGGGAGCAAACGGG Pseudoalteromonas   \n",
       "                                                                                                                                                                                                                                                              Species    \n",
       "TACGGAGGGTGCGAGCGTTAATCGGAATTACTGGGCGTAAAGCGCATGCAGGTGGTTTGTTAAGTCAGATGTGAAAGCCCGGGGCTCAACCTCGGAAGGTCATTTGAAACTGGCAAACTAGAGTACTGTAGAGGGGGGTAGAATTTCAGGTGTAGCGGTGAAATGCGTAGAGATCTGAAGGAATACCAGTGGCGAAGGCGGCCCCCTGGACAGATACTGACACTCAGATGCGAAAGCGTGGGGAGCAAACAGG NA         \n",
       "TACGGAGGGTCCAAGCGTTATCCGGAATCATTGGGTTTAAAGGGTTCGTAGGCGGGCTAATTAGTCAGAGGTGAAATCCAGCAGCTTAACTGTTGAACTGCCTTTGATACTGTTAGTCTTGAGTTATATGGAAGTAGATAGAATATGTAGTGTAGCGGTGAAATGCATAGATATTACATAGAATACCGATTGCGAAGGCAGTCTACTACGTATATACTGACGCTGATGAACGAAAGCGTGGGGAGCGAACGGG gracilariae\n",
       "TACGGAGGGTGCGAGCGTTGTCCGGATTTATTGGGTTTAAAGGGTGCGTAGGTGGCTTGATAAGTCAGTGGTGAAATACATCCGCTTAACGGATGAGGTGCCATTGATACTGTTAAGCTTGAAAGAATTGGAGGCTGCCGGAATGGATGGTGTAGCGGTGAAATGCATAGATATCATCCAGAACACCGATTGCGAAGGCAGGTGGCTACGATTTATTTGACACTGAGGCACGAAAGCATGGGGAGCGAACAGG jejuensis  \n",
       "TACGAAGGGGGCTAGCGTTGTTCGGAATTACTGGGCGTAAAGGGTGCGTAGGCTGTTTTGTAAGTTAGATGTGAAAGCCTCGGTTTCAAGCTGAGAATAGCATTTAATACTGCAAGACTAGAGGATAAGAGAGGACAGGGGAATTCTGAGTGTAGAGGTAAAATTCGTAGATATTCAGAGGAACACCGGAGGCGAAAGCGCCTGTCTGGATTAATCCTGACGCTGAGGCACGAAAGTATGGGGAGCAAACAGG NA         \n",
       "TACGGAGGGTGCAAGCGTTAATCGGAATTACTGGGCGTAAAGCGCACGCAGGCGGTTTGTTAAGTCAGATGTGAAATCCCCGGGCTCAACCTGGGAACTGCATCTGATACTGGCAAGCTTGAGTCTCGTAGAGGGGGGTAGAATTCCAGGTGTAGCGGTGAAATGCGTAGAGATCTGGAGGAATACCGGTGGCGAAGGCGGCCCCCTGGACGAAGACTGACGCTCAGGTGCGAAAGCGTGGGGAGCAAACAGG coli       \n",
       "TACGGAGGGTGCGAGCGTTAATCGGAATTACTGGGCGTAAAGCGTACGCAGGCGGTTTGTTAAGCGAGATGTGAAAGCCCCGGGCTCAACCTGGGAACTGCATTTCGAACTGGCAAACTAGAGTGTGATAGAGGGTGGTAGAATTTCAGGTGTAGCGGTGAAATGCGTAGAGATCTGAAGGAATACCGATGGCGAAGGCAGCCACCTGGGTCAACACTGACGCTCATGTACGAAAGCGTGGGGAGCAAACGGG NA         "
      ]
     },
     "metadata": {},
     "output_type": "display_data"
    },
    {
     "data": {
      "text/html": [
       "<table class=\"dataframe\">\n",
       "<caption>A data.frame: 6 × 9</caption>\n",
       "<thead>\n",
       "\t<tr><th></th><th scope=col>Kingdom</th><th scope=col>Phylum</th><th scope=col>Class</th><th scope=col>Order</th><th scope=col>Family</th><th scope=col>Genus</th><th scope=col>Species</th><th scope=col>ASV</th><th scope=col>Data_base</th></tr>\n",
       "\t<tr><th></th><th scope=col>&lt;chr&gt;</th><th scope=col>&lt;chr&gt;</th><th scope=col>&lt;chr&gt;</th><th scope=col>&lt;chr&gt;</th><th scope=col>&lt;chr&gt;</th><th scope=col>&lt;chr&gt;</th><th scope=col>&lt;chr&gt;</th><th scope=col>&lt;chr&gt;</th><th scope=col>&lt;chr&gt;</th></tr>\n",
       "</thead>\n",
       "<tbody>\n",
       "\t<tr><th scope=row>1</th><td>Bacteria</td><td>Pseudomonadota</td><td>Gammaproteobacteria</td><td>Vibrionales     </td><td>Vibrionaceae          </td><td>Vibrio              </td><td>NA         </td><td>f41eb548cba466f8a672f4651a674958</td><td>RDP</td></tr>\n",
       "\t<tr><th scope=row>2</th><td>Bacteria</td><td>Bacteroidota  </td><td>Flavobacteriia     </td><td>Flavobacteriales</td><td>Flavobacteriaceae     </td><td>Wenyingzhuangia     </td><td>gracilariae</td><td>dda1c8a4aafcc6c3d1a4ae4b7bd73102</td><td>RDP</td></tr>\n",
       "\t<tr><th scope=row>3</th><td>Bacteria</td><td>Bacteroidota  </td><td>Cytophagia         </td><td>Cytophagales    </td><td>Spirosomaceae         </td><td>Dyadobacter         </td><td>jejuensis  </td><td>394a72d1e51d2532c78dc8fdafbd0408</td><td>RDP</td></tr>\n",
       "\t<tr><th scope=row>4</th><td>Bacteria</td><td>Pseudomonadota</td><td>Alphaproteobacteria</td><td>NA              </td><td>NA                    </td><td>NA                  </td><td>NA         </td><td>80b063178d4c8e0047bb2d0653d300fd</td><td>RDP</td></tr>\n",
       "\t<tr><th scope=row>5</th><td>Bacteria</td><td>Pseudomonadota</td><td>Gammaproteobacteria</td><td>Enterobacterales</td><td>Enterobacteriaceae    </td><td>Escherichia/Shigella</td><td>coli       </td><td>d46e2205f0c6ecf67b51f83d111c509c</td><td>RDP</td></tr>\n",
       "\t<tr><th scope=row>6</th><td>Bacteria</td><td>Pseudomonadota</td><td>Gammaproteobacteria</td><td>Alteromonadales </td><td>Pseudoalteromonadaceae</td><td>Pseudoalteromonas   </td><td>NA         </td><td>d7c175c5b206160e3c14ffd3ae2019d7</td><td>RDP</td></tr>\n",
       "</tbody>\n",
       "</table>\n"
      ],
      "text/latex": [
       "A data.frame: 6 × 9\n",
       "\\begin{tabular}{r|lllllllll}\n",
       "  & Kingdom & Phylum & Class & Order & Family & Genus & Species & ASV & Data\\_base\\\\\n",
       "  & <chr> & <chr> & <chr> & <chr> & <chr> & <chr> & <chr> & <chr> & <chr>\\\\\n",
       "\\hline\n",
       "\t1 & Bacteria & Pseudomonadota & Gammaproteobacteria & Vibrionales      & Vibrionaceae           & Vibrio               & NA          & f41eb548cba466f8a672f4651a674958 & RDP\\\\\n",
       "\t2 & Bacteria & Bacteroidota   & Flavobacteriia      & Flavobacteriales & Flavobacteriaceae      & Wenyingzhuangia      & gracilariae & dda1c8a4aafcc6c3d1a4ae4b7bd73102 & RDP\\\\\n",
       "\t3 & Bacteria & Bacteroidota   & Cytophagia          & Cytophagales     & Spirosomaceae          & Dyadobacter          & jejuensis   & 394a72d1e51d2532c78dc8fdafbd0408 & RDP\\\\\n",
       "\t4 & Bacteria & Pseudomonadota & Alphaproteobacteria & NA               & NA                     & NA                   & NA          & 80b063178d4c8e0047bb2d0653d300fd & RDP\\\\\n",
       "\t5 & Bacteria & Pseudomonadota & Gammaproteobacteria & Enterobacterales & Enterobacteriaceae     & Escherichia/Shigella & coli        & d46e2205f0c6ecf67b51f83d111c509c & RDP\\\\\n",
       "\t6 & Bacteria & Pseudomonadota & Gammaproteobacteria & Alteromonadales  & Pseudoalteromonadaceae & Pseudoalteromonas    & NA          & d7c175c5b206160e3c14ffd3ae2019d7 & RDP\\\\\n",
       "\\end{tabular}\n"
      ],
      "text/markdown": [
       "\n",
       "A data.frame: 6 × 9\n",
       "\n",
       "| <!--/--> | Kingdom &lt;chr&gt; | Phylum &lt;chr&gt; | Class &lt;chr&gt; | Order &lt;chr&gt; | Family &lt;chr&gt; | Genus &lt;chr&gt; | Species &lt;chr&gt; | ASV &lt;chr&gt; | Data_base &lt;chr&gt; |\n",
       "|---|---|---|---|---|---|---|---|---|---|\n",
       "| 1 | Bacteria | Pseudomonadota | Gammaproteobacteria | Vibrionales      | Vibrionaceae           | Vibrio               | NA          | f41eb548cba466f8a672f4651a674958 | RDP |\n",
       "| 2 | Bacteria | Bacteroidota   | Flavobacteriia      | Flavobacteriales | Flavobacteriaceae      | Wenyingzhuangia      | gracilariae | dda1c8a4aafcc6c3d1a4ae4b7bd73102 | RDP |\n",
       "| 3 | Bacteria | Bacteroidota   | Cytophagia          | Cytophagales     | Spirosomaceae          | Dyadobacter          | jejuensis   | 394a72d1e51d2532c78dc8fdafbd0408 | RDP |\n",
       "| 4 | Bacteria | Pseudomonadota | Alphaproteobacteria | NA               | NA                     | NA                   | NA          | 80b063178d4c8e0047bb2d0653d300fd | RDP |\n",
       "| 5 | Bacteria | Pseudomonadota | Gammaproteobacteria | Enterobacterales | Enterobacteriaceae     | Escherichia/Shigella | coli        | d46e2205f0c6ecf67b51f83d111c509c | RDP |\n",
       "| 6 | Bacteria | Pseudomonadota | Gammaproteobacteria | Alteromonadales  | Pseudoalteromonadaceae | Pseudoalteromonas    | NA          | d7c175c5b206160e3c14ffd3ae2019d7 | RDP |\n",
       "\n"
      ],
      "text/plain": [
       "  Kingdom  Phylum         Class               Order           \n",
       "1 Bacteria Pseudomonadota Gammaproteobacteria Vibrionales     \n",
       "2 Bacteria Bacteroidota   Flavobacteriia      Flavobacteriales\n",
       "3 Bacteria Bacteroidota   Cytophagia          Cytophagales    \n",
       "4 Bacteria Pseudomonadota Alphaproteobacteria NA              \n",
       "5 Bacteria Pseudomonadota Gammaproteobacteria Enterobacterales\n",
       "6 Bacteria Pseudomonadota Gammaproteobacteria Alteromonadales \n",
       "  Family                 Genus                Species    \n",
       "1 Vibrionaceae           Vibrio               NA         \n",
       "2 Flavobacteriaceae      Wenyingzhuangia      gracilariae\n",
       "3 Spirosomaceae          Dyadobacter          jejuensis  \n",
       "4 NA                     NA                   NA         \n",
       "5 Enterobacteriaceae     Escherichia/Shigella coli       \n",
       "6 Pseudoalteromonadaceae Pseudoalteromonas    NA         \n",
       "  ASV                              Data_base\n",
       "1 f41eb548cba466f8a672f4651a674958 RDP      \n",
       "2 dda1c8a4aafcc6c3d1a4ae4b7bd73102 RDP      \n",
       "3 394a72d1e51d2532c78dc8fdafbd0408 RDP      \n",
       "4 80b063178d4c8e0047bb2d0653d300fd RDP      \n",
       "5 d46e2205f0c6ecf67b51f83d111c509c RDP      \n",
       "6 d7c175c5b206160e3c14ffd3ae2019d7 RDP      "
      ]
     },
     "metadata": {},
     "output_type": "display_data"
    }
   ],
   "source": [
    "# Assignation taxonomique en utilisant la base de référence RDP\n",
    "taxa <- assignTaxonomy(seq_rdp_char,\"data/TaxoRef_Training/rdp_19_toSpecies_trainset.fa.gz\", multithread=TRUE)\n",
    "head(taxa)\n",
    "\n",
    "# Convertir la matrice taxa en data frame\n",
    "taxa_RDP <- as.data.frame(taxa)\n",
    "taxa_RDP <- rownames_to_column(taxa_RDP, var=\"sequence\")\n",
    "                                 \n",
    "# Ajouter une colonne avec les noms de seq_rdp_char\n",
    "taxa_RDP$ASV <- names(seq_rdp_char)\n",
    "\n",
    "# Ajouter une colonne \"Data base\" avec la valeur \"RDP\" pour toutes les lignes\n",
    "taxa_RDP$Data_base <- \"RDP\"\n",
    "\n",
    "# supprimer la colonne séquence\n",
    "\n",
    "taxa_RDP$sequence <- NULL\n",
    "head(taxa_RDP)"
   ]
  },
  {
   "cell_type": "markdown",
   "id": "0b417059-44cf-44e4-922a-caae7d02508c",
   "metadata": {},
   "source": [
    "EXPORTATION TABLEAU"
   ]
  },
  {
   "cell_type": "code",
   "execution_count": 24,
   "id": "72d62689-3a40-445f-bebf-de5f1b4ee4e9",
   "metadata": {},
   "outputs": [],
   "source": [
    "# write.table(taxa_table, file= \"data/output/assign_RDP.csv\", sep= \";\" , row.names= FALSE, col.names= TRUE)"
   ]
  },
  {
   "cell_type": "markdown",
   "id": "f307b46a-eaec-47a8-99bb-1dff3692611b",
   "metadata": {},
   "source": [
    "## 2) SILVA"
   ]
  },
  {
   "cell_type": "code",
   "execution_count": 1,
   "id": "66f307b5-6a35-494b-a09e-c21c42e846a3",
   "metadata": {},
   "outputs": [
    {
     "ename": "ERROR",
     "evalue": "Error in assignTaxonomy(seq_rdp_char, \"data/TaxoRef_Training/silva_nr99_v138.2_toSpecies_trainset.fa.gz\", : could not find function \"assignTaxonomy\"\n",
     "output_type": "error",
     "traceback": [
      "Error in assignTaxonomy(seq_rdp_char, \"data/TaxoRef_Training/silva_nr99_v138.2_toSpecies_trainset.fa.gz\", : could not find function \"assignTaxonomy\"\nTraceback:\n"
     ]
    }
   ],
   "source": [
    "# Assignation taxonomique en utilisant la base de référence Silva\n",
    "taxa <- assignTaxonomy(seq_rdp_char, \"data/TaxoRef_Training/silva_nr99_v138.2_toSpecies_trainset.fa.gz\", multithread=TRUE)\n",
    "head(taxa)\n",
    "\n",
    "# Convertir la matrice taxa en data frame\n",
    "taxa_SILVA <- as.data.frame(taxa)\n",
    "taxa_SILVA <- rownames_to_column(taxa_SILVA, var=\"sequence\")\n",
    "                                 \n",
    "# Ajouter une colonne avec les noms de seq_rdp_char\n",
    "taxa_SILVA$ASV <- names(seq_rdp_char)\n",
    "\n",
    "# Ajouter une colonne \"Data base\" avec la valeur \"RDP\" pour toutes les lignes\n",
    "taxa_SILVA$Data_base <- \"RDP\"\n",
    "\n",
    "# supprimer la colonnes séquence\n",
    "\n",
    "taxa_SILVA$sequence <- NULL\n",
    "head(taxa_SILVA)"
   ]
  },
  {
   "cell_type": "markdown",
   "id": "e14333d0-1e42-4717-b635-2ec0e501e70b",
   "metadata": {},
   "source": [
    "EXPORTATION TABLEAU"
   ]
  },
  {
   "cell_type": "code",
   "execution_count": null,
   "id": "87272e8a-6c3b-4244-8370-54fb15809242",
   "metadata": {},
   "outputs": [],
   "source": [
    "# write.table(taxa_SILVA, file= \"data/output/assign_SILVA.csv\", sep= \";\" , row.names= FALSE, col.names= TRUE)"
   ]
  },
  {
   "cell_type": "markdown",
   "id": "c476d939-66b7-4d30-a364-68efc63c5407",
   "metadata": {},
   "source": [
    "## 3) GG2"
   ]
  },
  {
   "cell_type": "code",
   "execution_count": null,
   "id": "379af0a0-2b7f-49cb-b38b-6145b7ba2bad",
   "metadata": {},
   "outputs": [],
   "source": [
    "# Assignation taxonomique en utilisant la base de référence Gg2\n",
    "taxa_gg2 <- assignTaxonomy(seq_rdp_char, \"data/TaxoRef_Training/gg2_2024_09_toSpecies_trainset.fa.gz\", multithread=TRUE)\n",
    "head(taxa_gg2)\n",
    "\n",
    "# Convertir la matrice taxa en data frame\n",
    "taxa_gg2 <- as.data.frame(taxa)\n",
    "taxa_gg2 <- rownames_to_column(taxa_gg2, var=\"sequence\")\n",
    "                                 \n",
    "# Ajouter une colonne avec les noms de seq_rdp_char\n",
    "taxa_gg2$ASV <- names(seq_rdp_char)\n",
    "\n",
    "# Ajouter une colonne \"Data base\" avec la valeur \"RDP\" pour toutes les lignes\n",
    "taxa_gg2$Data_base <- \"RDP\"\n",
    "\n",
    "# supprimer la colonnes séquence\n",
    "\n",
    "taxa_gg2$sequence <- NULL\n",
    "head(taxa_gg2)"
   ]
  },
  {
   "cell_type": "markdown",
   "id": "351cfe0e-47a0-4bf0-8e0e-7ef464896ea6",
   "metadata": {},
   "source": [
    "EXPORTATION TABLEAU "
   ]
  },
  {
   "cell_type": "code",
   "execution_count": null,
   "id": "dc5ecb15-5a2e-4c24-9032-c3ea89893d39",
   "metadata": {},
   "outputs": [],
   "source": [
    "# write.table(taxa_gg2, file= \"data/output/assign_gg2.csv\", sep= \";\" , row.names= FALSE, col.names= TRUE)"
   ]
  },
  {
   "cell_type": "code",
   "execution_count": null,
   "id": "3c2b079e-a2a5-40a3-b53e-db7405da1e80",
   "metadata": {},
   "outputs": [],
   "source": []
  }
 ],
 "metadata": {
  "kernelspec": {
   "display_name": "R 4.4.1",
   "language": "R",
   "name": "r4.4.1"
  },
  "language_info": {
   "codemirror_mode": "r",
   "file_extension": ".r",
   "mimetype": "text/x-r-source",
   "name": "R",
   "pygments_lexer": "r",
   "version": "4.4.1"
  }
 },
 "nbformat": 4,
 "nbformat_minor": 5
}
