{
 "cells": [
  {
   "cell_type": "markdown",
   "id": "61cbff2f-ceaf-47d2-aa1c-6ea103dbf7cb",
   "metadata": {},
   "source": [
    "# DOMINANCE ET E.coli"
   ]
  },
  {
   "cell_type": "code",
   "execution_count": 1,
   "id": "65a982d9-900b-43e2-a44f-2f1588150f2f",
   "metadata": {},
   "outputs": [
    {
     "name": "stderr",
     "output_type": "stream",
     "text": [
      "── \u001b[1mAttaching core tidyverse packages\u001b[22m ──────────────────────── tidyverse 2.0.0 ──\n",
      "\u001b[32m✔\u001b[39m \u001b[34mdplyr    \u001b[39m 1.1.4     \u001b[32m✔\u001b[39m \u001b[34mreadr    \u001b[39m 2.1.5\n",
      "\u001b[32m✔\u001b[39m \u001b[34mforcats  \u001b[39m 1.0.0     \u001b[32m✔\u001b[39m \u001b[34mstringr  \u001b[39m 1.5.1\n",
      "\u001b[32m✔\u001b[39m \u001b[34mggplot2  \u001b[39m 3.5.1     \u001b[32m✔\u001b[39m \u001b[34mtibble   \u001b[39m 3.2.1\n",
      "\u001b[32m✔\u001b[39m \u001b[34mlubridate\u001b[39m 1.9.3     \u001b[32m✔\u001b[39m \u001b[34mtidyr    \u001b[39m 1.3.1\n",
      "\u001b[32m✔\u001b[39m \u001b[34mpurrr    \u001b[39m 1.0.2     \n",
      "── \u001b[1mConflicts\u001b[22m ────────────────────────────────────────── tidyverse_conflicts() ──\n",
      "\u001b[31m✖\u001b[39m \u001b[34mdplyr\u001b[39m::\u001b[32mfilter()\u001b[39m masks \u001b[34mstats\u001b[39m::filter()\n",
      "\u001b[31m✖\u001b[39m \u001b[34mdplyr\u001b[39m::\u001b[32mlag()\u001b[39m    masks \u001b[34mstats\u001b[39m::lag()\n",
      "\u001b[36mℹ\u001b[39m Use the conflicted package (\u001b[3m\u001b[34m<http://conflicted.r-lib.org/>\u001b[39m\u001b[23m) to force all conflicts to become errors\n"
     ]
    }
   ],
   "source": [
    "# Chargement des librairies\n",
    "library(tidyverse)\n",
    "library(dplyr)"
   ]
  },
  {
   "cell_type": "code",
   "execution_count": 2,
   "id": "49eb82cb-00da-4e76-8693-584bb4db3047",
   "metadata": {},
   "outputs": [
    {
     "data": {
      "text/html": [
       "<table class=\"dataframe\">\n",
       "<caption>A tibble: 6 × 12</caption>\n",
       "<thead>\n",
       "\t<tr><th scope=col>ASV</th><th scope=col>sample.id</th><th scope=col>temperature</th><th scope=col>frequence</th><th scope=col>Kingdom</th><th scope=col>Phylum</th><th scope=col>Class</th><th scope=col>Order</th><th scope=col>Family</th><th scope=col>Genus</th><th scope=col>Species</th><th scope=col>base_ref</th></tr>\n",
       "\t<tr><th scope=col>&lt;chr&gt;</th><th scope=col>&lt;chr&gt;</th><th scope=col>&lt;int&gt;</th><th scope=col>&lt;int&gt;</th><th scope=col>&lt;chr&gt;</th><th scope=col>&lt;chr&gt;</th><th scope=col>&lt;chr&gt;</th><th scope=col>&lt;chr&gt;</th><th scope=col>&lt;chr&gt;</th><th scope=col>&lt;chr&gt;</th><th scope=col>&lt;chr&gt;</th><th scope=col>&lt;chr&gt;</th></tr>\n",
       "</thead>\n",
       "<tbody>\n",
       "\t<tr><td>000346e31c7cc77c7ed1244763587e06</td><td>PM415MV6</td><td>15</td><td> 6</td><td>Bacteria</td><td>Pseudomonadota</td><td>Gammaproteobacteria</td><td>Enterobacterales_737866</td><td>Alteromonadaceae      </td><td>Pseudoalteromonas</td><td>NA         </td><td>GG2  </td></tr>\n",
       "\t<tr><td>000346e31c7cc77c7ed1244763587e06</td><td>PM415MV6</td><td>15</td><td> 6</td><td>Bacteria</td><td>Pseudomonadota</td><td>Gammaproteobacteria</td><td>Alteromonadales        </td><td>Pseudoalteromonadaceae</td><td>Pseudoalteromonas</td><td>tetraodonis</td><td>RDP  </td></tr>\n",
       "\t<tr><td>000346e31c7cc77c7ed1244763587e06</td><td>PM415MV6</td><td>15</td><td> 6</td><td>Bacteria</td><td>Pseudomonadota</td><td>Gammaproteobacteria</td><td>Enterobacterales       </td><td>Pseudoalteromonadaceae</td><td>Pseudoalteromonas</td><td>NA         </td><td>SILVA</td></tr>\n",
       "\t<tr><td>000346e31c7cc77c7ed1244763587e06</td><td>PM420MV8</td><td>20</td><td>38</td><td>Bacteria</td><td>Pseudomonadota</td><td>Gammaproteobacteria</td><td>Enterobacterales_737866</td><td>Alteromonadaceae      </td><td>Pseudoalteromonas</td><td>NA         </td><td>GG2  </td></tr>\n",
       "\t<tr><td>000346e31c7cc77c7ed1244763587e06</td><td>PM420MV8</td><td>20</td><td>38</td><td>Bacteria</td><td>Pseudomonadota</td><td>Gammaproteobacteria</td><td>Alteromonadales        </td><td>Pseudoalteromonadaceae</td><td>Pseudoalteromonas</td><td>tetraodonis</td><td>RDP  </td></tr>\n",
       "\t<tr><td>000346e31c7cc77c7ed1244763587e06</td><td>PM420MV8</td><td>20</td><td>38</td><td>Bacteria</td><td>Pseudomonadota</td><td>Gammaproteobacteria</td><td>Enterobacterales       </td><td>Pseudoalteromonadaceae</td><td>Pseudoalteromonas</td><td>NA         </td><td>SILVA</td></tr>\n",
       "</tbody>\n",
       "</table>\n"
      ],
      "text/latex": [
       "A tibble: 6 × 12\n",
       "\\begin{tabular}{llllllllllll}\n",
       " ASV & sample.id & temperature & frequence & Kingdom & Phylum & Class & Order & Family & Genus & Species & base\\_ref\\\\\n",
       " <chr> & <chr> & <int> & <int> & <chr> & <chr> & <chr> & <chr> & <chr> & <chr> & <chr> & <chr>\\\\\n",
       "\\hline\n",
       "\t 000346e31c7cc77c7ed1244763587e06 & PM415MV6 & 15 &  6 & Bacteria & Pseudomonadota & Gammaproteobacteria & Enterobacterales\\_737866 & Alteromonadaceae       & Pseudoalteromonas & NA          & GG2  \\\\\n",
       "\t 000346e31c7cc77c7ed1244763587e06 & PM415MV6 & 15 &  6 & Bacteria & Pseudomonadota & Gammaproteobacteria & Alteromonadales         & Pseudoalteromonadaceae & Pseudoalteromonas & tetraodonis & RDP  \\\\\n",
       "\t 000346e31c7cc77c7ed1244763587e06 & PM415MV6 & 15 &  6 & Bacteria & Pseudomonadota & Gammaproteobacteria & Enterobacterales        & Pseudoalteromonadaceae & Pseudoalteromonas & NA          & SILVA\\\\\n",
       "\t 000346e31c7cc77c7ed1244763587e06 & PM420MV8 & 20 & 38 & Bacteria & Pseudomonadota & Gammaproteobacteria & Enterobacterales\\_737866 & Alteromonadaceae       & Pseudoalteromonas & NA          & GG2  \\\\\n",
       "\t 000346e31c7cc77c7ed1244763587e06 & PM420MV8 & 20 & 38 & Bacteria & Pseudomonadota & Gammaproteobacteria & Alteromonadales         & Pseudoalteromonadaceae & Pseudoalteromonas & tetraodonis & RDP  \\\\\n",
       "\t 000346e31c7cc77c7ed1244763587e06 & PM420MV8 & 20 & 38 & Bacteria & Pseudomonadota & Gammaproteobacteria & Enterobacterales        & Pseudoalteromonadaceae & Pseudoalteromonas & NA          & SILVA\\\\\n",
       "\\end{tabular}\n"
      ],
      "text/markdown": [
       "\n",
       "A tibble: 6 × 12\n",
       "\n",
       "| ASV &lt;chr&gt; | sample.id &lt;chr&gt; | temperature &lt;int&gt; | frequence &lt;int&gt; | Kingdom &lt;chr&gt; | Phylum &lt;chr&gt; | Class &lt;chr&gt; | Order &lt;chr&gt; | Family &lt;chr&gt; | Genus &lt;chr&gt; | Species &lt;chr&gt; | base_ref &lt;chr&gt; |\n",
       "|---|---|---|---|---|---|---|---|---|---|---|---|\n",
       "| 000346e31c7cc77c7ed1244763587e06 | PM415MV6 | 15 |  6 | Bacteria | Pseudomonadota | Gammaproteobacteria | Enterobacterales_737866 | Alteromonadaceae       | Pseudoalteromonas | NA          | GG2   |\n",
       "| 000346e31c7cc77c7ed1244763587e06 | PM415MV6 | 15 |  6 | Bacteria | Pseudomonadota | Gammaproteobacteria | Alteromonadales         | Pseudoalteromonadaceae | Pseudoalteromonas | tetraodonis | RDP   |\n",
       "| 000346e31c7cc77c7ed1244763587e06 | PM415MV6 | 15 |  6 | Bacteria | Pseudomonadota | Gammaproteobacteria | Enterobacterales        | Pseudoalteromonadaceae | Pseudoalteromonas | NA          | SILVA |\n",
       "| 000346e31c7cc77c7ed1244763587e06 | PM420MV8 | 20 | 38 | Bacteria | Pseudomonadota | Gammaproteobacteria | Enterobacterales_737866 | Alteromonadaceae       | Pseudoalteromonas | NA          | GG2   |\n",
       "| 000346e31c7cc77c7ed1244763587e06 | PM420MV8 | 20 | 38 | Bacteria | Pseudomonadota | Gammaproteobacteria | Alteromonadales         | Pseudoalteromonadaceae | Pseudoalteromonas | tetraodonis | RDP   |\n",
       "| 000346e31c7cc77c7ed1244763587e06 | PM420MV8 | 20 | 38 | Bacteria | Pseudomonadota | Gammaproteobacteria | Enterobacterales        | Pseudoalteromonadaceae | Pseudoalteromonas | NA          | SILVA |\n",
       "\n"
      ],
      "text/plain": [
       "  ASV                              sample.id temperature frequence Kingdom \n",
       "1 000346e31c7cc77c7ed1244763587e06 PM415MV6  15           6        Bacteria\n",
       "2 000346e31c7cc77c7ed1244763587e06 PM415MV6  15           6        Bacteria\n",
       "3 000346e31c7cc77c7ed1244763587e06 PM415MV6  15           6        Bacteria\n",
       "4 000346e31c7cc77c7ed1244763587e06 PM420MV8  20          38        Bacteria\n",
       "5 000346e31c7cc77c7ed1244763587e06 PM420MV8  20          38        Bacteria\n",
       "6 000346e31c7cc77c7ed1244763587e06 PM420MV8  20          38        Bacteria\n",
       "  Phylum         Class               Order                  \n",
       "1 Pseudomonadota Gammaproteobacteria Enterobacterales_737866\n",
       "2 Pseudomonadota Gammaproteobacteria Alteromonadales        \n",
       "3 Pseudomonadota Gammaproteobacteria Enterobacterales       \n",
       "4 Pseudomonadota Gammaproteobacteria Enterobacterales_737866\n",
       "5 Pseudomonadota Gammaproteobacteria Alteromonadales        \n",
       "6 Pseudomonadota Gammaproteobacteria Enterobacterales       \n",
       "  Family                 Genus             Species     base_ref\n",
       "1 Alteromonadaceae       Pseudoalteromonas NA          GG2     \n",
       "2 Pseudoalteromonadaceae Pseudoalteromonas tetraodonis RDP     \n",
       "3 Pseudoalteromonadaceae Pseudoalteromonas NA          SILVA   \n",
       "4 Alteromonadaceae       Pseudoalteromonas NA          GG2     \n",
       "5 Pseudoalteromonadaceae Pseudoalteromonas tetraodonis RDP     \n",
       "6 Pseudoalteromonadaceae Pseudoalteromonas NA          SILVA   "
      ]
     },
     "metadata": {},
     "output_type": "display_data"
    }
   ],
   "source": [
    "# Importation du tableau de donnée final\n",
    "df_pm4 <- tibble(read.csv(\"data/output/data_final_pm4.csv\", sep = \";\"))\n",
    "head(df_pm4)"
   ]
  },
  {
   "cell_type": "markdown",
   "id": "e2b67f85-b795-4f55-aaa7-1ef32e7758d1",
   "metadata": {},
   "source": [
    "# I- VERIFICATION DU NOMBRE DE E.coli DANS LES DATABASES"
   ]
  },
  {
   "cell_type": "markdown",
   "id": "77f75e1d-3f64-4e2a-b952-04cdebea5b3b",
   "metadata": {},
   "source": [
    "Pour assurer la fiabilité des analyses, nous avons d'abord vérifié l'abondance de E. coli car les nématodes ont été nourris avec cette bactérie."
   ]
  },
  {
   "cell_type": "code",
   "execution_count": null,
   "id": "23f7f6d8-8c8b-46a6-b9cf-24850e72f97e",
   "metadata": {},
   "outputs": [],
   "source": [
    "nb_coli <- df_pm4 %>%\n",
    "  filter(Species == \"coli\") %>%       # Filtrer uniquement les lignes où l'espèce est \"coli\"\n",
    "  group_by(base_ref) %>%              # Regrouper par base de reference\n",
    "  dplyr::summarise(\n",
    "    nb_asv_distincts = n_distinct(ASV),  # Calcul du nombre d'ASV distincts\n",
    "    nb_coli = n()                        # Calcul du nombre total d'occurrences de \"coli\"\n",
    "  )\n",
    "\n",
    "# Afficher les résultats\n",
    "print(nb_coli)"
   ]
  },
  {
   "cell_type": "markdown",
   "id": "a1cb60f6-ddba-46ef-bfe9-5e11e8c244df",
   "metadata": {},
   "source": [
    "# II- CALCUL DU GENRE ET DE L'ESPECE DOMINANTE "
   ]
  },
  {
   "cell_type": "markdown",
   "id": "54b519d9-cc99-4ece-b82d-51091ea48fec",
   "metadata": {},
   "source": [
    "Nous avons analysé les données pour identifier l’espèce et le genre les plus abondants en fonction des différentes températures et des bases de données utilisées."
   ]
  },
  {
   "cell_type": "markdown",
   "id": "c874c3e6-ed68-4731-a795-67afb80f51dd",
   "metadata": {},
   "source": [
    "## 1) L'espece dominante "
   ]
  },
  {
   "cell_type": "code",
   "execution_count": 3,
   "id": "02ac9ec7-a3dc-4aa1-93fb-38a395bcd985",
   "metadata": {},
   "outputs": [
    {
     "name": "stdout",
     "output_type": "stream",
     "text": [
      "\u001b[90m# A tibble: 9 × 4\u001b[39m\n",
      "  base_ref temperature Species    frequence\n",
      "  \u001b[3m\u001b[90m<chr>\u001b[39m\u001b[23m          \u001b[3m\u001b[90m<int>\u001b[39m\u001b[23m \u001b[3m\u001b[90m<chr>\u001b[39m\u001b[23m          \u001b[3m\u001b[90m<int>\u001b[39m\u001b[23m\n",
      "\u001b[90m1\u001b[39m RDP               15 \u001b[31mNA\u001b[39m            \u001b[4m1\u001b[24m\u001b[4m4\u001b[24m\u001b[4m2\u001b[24m042\n",
      "\u001b[90m2\u001b[39m GG2               15 rumoiensis    \u001b[4m1\u001b[24m\u001b[4m4\u001b[24m\u001b[4m2\u001b[24m042\n",
      "\u001b[90m3\u001b[39m SILVA             15 casei         \u001b[4m1\u001b[24m\u001b[4m4\u001b[24m\u001b[4m2\u001b[24m042\n",
      "\u001b[90m4\u001b[39m RDP               25 \u001b[31mNA\u001b[39m             \u001b[4m9\u001b[24m\u001b[4m4\u001b[24m065\n",
      "\u001b[90m5\u001b[39m GG2               25 rumoiensis     \u001b[4m9\u001b[24m\u001b[4m4\u001b[24m065\n",
      "\u001b[90m6\u001b[39m SILVA             25 casei          \u001b[4m9\u001b[24m\u001b[4m4\u001b[24m065\n",
      "\u001b[90m7\u001b[39m RDP               20 \u001b[31mNA\u001b[39m            \u001b[4m2\u001b[24m\u001b[4m6\u001b[24m\u001b[4m0\u001b[24m151\n",
      "\u001b[90m8\u001b[39m GG2               20 rumoiensis    \u001b[4m2\u001b[24m\u001b[4m6\u001b[24m\u001b[4m0\u001b[24m151\n",
      "\u001b[90m9\u001b[39m SILVA             20 casei         \u001b[4m2\u001b[24m\u001b[4m6\u001b[24m\u001b[4m0\u001b[24m151\n"
     ]
    }
   ],
   "source": [
    "# Trouver l'espèce la plus abondante pour chaque combinaison de base de données et température\n",
    "resultat <- df_pm4 %>%\n",
    " group_by(temperature) %>% # grouper les températures \n",
    "filter(frequence == max(frequence)) %>% # filtrer les lignes avec la fréquence la plus élevée\n",
    "  group_by(base_ref) %>% # grouper par base de references \n",
    "  ungroup() %>% # dégrouper \n",
    "  select(base_ref, temperature, Species, frequence)  # Sélectionner les colonnes importantes\n",
    "\n",
    "# Afficher les résultats\n",
    "print(resultat)"
   ]
  },
  {
   "cell_type": "markdown",
   "id": "09570193-9a77-4bd6-a599-36c402855a44",
   "metadata": {},
   "source": [
    "## 2) Le genre dominant"
   ]
  },
  {
   "cell_type": "code",
   "execution_count": 4,
   "id": "6e5110cf-d77a-4c80-9194-f3e012cba882",
   "metadata": {},
   "outputs": [
    {
     "name": "stdout",
     "output_type": "stream",
     "text": [
      "\u001b[90m# A tibble: 9 × 4\u001b[39m\n",
      "  base_ref temperature Genus           frequence\n",
      "  \u001b[3m\u001b[90m<chr>\u001b[39m\u001b[23m          \u001b[3m\u001b[90m<int>\u001b[39m\u001b[23m \u001b[3m\u001b[90m<chr>\u001b[39m\u001b[23m               \u001b[3m\u001b[90m<int>\u001b[39m\u001b[23m\n",
      "\u001b[90m1\u001b[39m RDP               15 Vibrio             \u001b[4m1\u001b[24m\u001b[4m4\u001b[24m\u001b[4m2\u001b[24m042\n",
      "\u001b[90m2\u001b[39m GG2               15 Vibrio_A_678542    \u001b[4m1\u001b[24m\u001b[4m4\u001b[24m\u001b[4m2\u001b[24m042\n",
      "\u001b[90m3\u001b[39m SILVA             15 Vibrio             \u001b[4m1\u001b[24m\u001b[4m4\u001b[24m\u001b[4m2\u001b[24m042\n",
      "\u001b[90m4\u001b[39m RDP               25 Vibrio              \u001b[4m9\u001b[24m\u001b[4m4\u001b[24m065\n",
      "\u001b[90m5\u001b[39m GG2               25 Vibrio_A_678542     \u001b[4m9\u001b[24m\u001b[4m4\u001b[24m065\n",
      "\u001b[90m6\u001b[39m SILVA             25 Vibrio              \u001b[4m9\u001b[24m\u001b[4m4\u001b[24m065\n",
      "\u001b[90m7\u001b[39m RDP               20 Vibrio             \u001b[4m2\u001b[24m\u001b[4m6\u001b[24m\u001b[4m0\u001b[24m151\n",
      "\u001b[90m8\u001b[39m GG2               20 Vibrio_A_678542    \u001b[4m2\u001b[24m\u001b[4m6\u001b[24m\u001b[4m0\u001b[24m151\n",
      "\u001b[90m9\u001b[39m SILVA             20 Vibrio             \u001b[4m2\u001b[24m\u001b[4m6\u001b[24m\u001b[4m0\u001b[24m151\n"
     ]
    }
   ],
   "source": [
    "# Trouver le genre le plus abondant pour chaque combinaison de base de donnée et température\n",
    "resultat <- df_pm4 %>%\n",
    "  group_by(base_ref, temperature) %>% # grouper par base de references et temperature \n",
    "  filter(frequence == max(frequence)) %>% # filtrer les lignes avec la fréquence la plus élevée\n",
    "  ungroup() %>% # dégrouper \n",
    "  select(base_ref, temperature, Genus, frequence)  # Sélectionner les colonnes importantes\n",
    "\n",
    "# Afficher les résultats\n",
    "print(resultat)"
   ]
  }
 ],
 "metadata": {
  "kernelspec": {
   "display_name": "R 4.4.1",
   "language": "R",
   "name": "r4.4.1"
  },
  "language_info": {
   "codemirror_mode": "r",
   "file_extension": ".r",
   "mimetype": "text/x-r-source",
   "name": "R",
   "pygments_lexer": "r",
   "version": "4.4.1"
  }
 },
 "nbformat": 4,
 "nbformat_minor": 5
}
