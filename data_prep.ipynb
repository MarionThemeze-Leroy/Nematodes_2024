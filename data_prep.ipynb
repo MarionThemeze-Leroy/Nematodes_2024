{
 "cells": [
  {
   "cell_type": "markdown",
   "id": "2a257d06-3541-4834-99d7-cc72a6aa8114",
   "metadata": {},
   "source": [
    "# Preparation du tableau de données pour les analyses statistiques"
   ]
  },
  {
   "cell_type": "markdown",
   "id": "a7527b2a-6516-4685-865d-3e2c001caf28",
   "metadata": {},
   "source": [
    "## Choix du dossier de travail"
   ]
  },
  {
   "cell_type": "code",
   "execution_count": 1,
   "id": "f2d72f77-6527-45b9-b99d-e9dc6d38fa5e",
   "metadata": {},
   "outputs": [
    {
     "ename": "ERROR",
     "evalue": "Error in setwd(\"shared/projects/sorbonne_master_ue_projet/Colaris\"): cannot change working directory\n",
     "output_type": "error",
     "traceback": [
      "Error in setwd(\"shared/projects/sorbonne_master_ue_projet/Colaris\"): cannot change working directory\nTraceback:\n",
      "1. .handleSimpleError(function (cnd) \n . {\n .     watcher$capture_plot_and_output()\n .     cnd <- sanitize_call(cnd)\n .     watcher$push(cnd)\n .     switch(on_error, continue = invokeRestart(\"eval_continue\"), \n .         stop = invokeRestart(\"eval_stop\"), error = invokeRestart(\"eval_error\", \n .             cnd))\n . }, \"cannot change working directory\", base::quote(setwd(\"shared/projects/sorbonne_master_ue_projet/Colaris\")))"
     ]
    }
   ],
   "source": [
    "# Donner le chemin vers le dossier de travail choisi\n",
    "setwd(\"shared/projects/sorbonne_master_ue_projet/Colaris\")"
   ]
  },
  {
   "cell_type": "markdown",
   "id": "f7b62633-97c0-4b0b-b4c6-04d0666c15d6",
   "metadata": {},
   "source": [
    "## Installation des packages"
   ]
  },
  {
   "cell_type": "code",
   "execution_count": 18,
   "id": "5d4aff83-a1d2-4f47-8972-92a5120fac6b",
   "metadata": {},
   "outputs": [
    {
     "name": "stderr",
     "output_type": "stream",
     "text": [
      "Installing package into ‘/shared/home/mthemezeleroy/R/x86_64-conda-linux-gnu-library/4.4’\n",
      "(as ‘lib’ is unspecified)\n",
      "\n",
      "Downloading GitHub repo jbisanz/qiime2R@HEAD\n",
      "\n"
     ]
    },
    {
     "name": "stdout",
     "output_type": "stream",
     "text": [
      "fs           (1.6.4     -> 1.6.5    ) [CRAN]\n",
      "withr        (3.0.1     -> 3.0.2    ) [CRAN]\n",
      "yulab.utils  (0.1.7     -> 0.1.8    ) [CRAN]\n",
      "Rcpp         (1.0.13    -> 1.0.13-1 ) [CRAN]\n",
      "bitops       (1.0-8     -> 1.0-9    ) [CRAN]\n",
      "RCurl        (1.98-1.14 -> 1.98-1.16) [CRAN]\n",
      "xfun         (0.48      -> 0.49     ) [CRAN]\n",
      "evaluate     (1.0.0     -> 1.0.1    ) [CRAN]\n",
      "tinytex      (0.53      -> 0.54     ) [CRAN]\n",
      "knitr        (1.48      -> 1.49     ) [CRAN]\n",
      "fontawesome  (0.5.2     -> 0.5.3    ) [CRAN]\n",
      "gtable       (0.3.5     -> 0.3.6    ) [CRAN]\n",
      "rmarkdown    (2.28      -> 2.29     ) [CRAN]\n",
      "rstudioapi   (0.16.0    -> 0.17.1   ) [CRAN]\n",
      "checkmate    (2.3.1     -> 2.3.2    ) [CRAN]\n",
      "RcppArmad... (14.0.2-1  -> 14.2.0-1 ) [CRAN]\n",
      "later        (1.3.2     -> 1.4.1    ) [CRAN]\n",
      "promises     (1.3.0     -> 1.3.2    ) [CRAN]\n",
      "htmlTable    (2.4.2     -> 2.4.3    ) [CRAN]\n",
      "data.table   (1.16.0    -> 1.16.2   ) [CRAN]\n",
      "igraph       (2.0.3     -> 2.1.1    ) [CRAN]\n",
      "NADA         (NA        -> 1.6-1.1  ) [CRAN]\n",
      "Hmisc        (5.1-3     -> 5.2-1    ) [CRAN]\n",
      "zComposit... (NA        -> 1.5.0-4  ) [CRAN]\n"
     ]
    },
    {
     "name": "stderr",
     "output_type": "stream",
     "text": [
      "Skipping 23 packages ahead of CRAN: S4Vectors, BiocGenerics, zlibbioc, XVector, GenomeInfoDbData, SparseArray, DelayedArray, S4Arrays, GenomeInfoDb, IRanges, GenomicRanges, MatrixGenerics, SummarizedExperiment, rhdf5filters, Rhdf5lib, rhdf5, treeio, BiocParallel, Biostrings, SingleCellExperiment, multtest, biomformat, TreeSummarizedExperiment\n",
      "\n",
      "Installing 24 packages: fs, withr, yulab.utils, Rcpp, bitops, RCurl, xfun, evaluate, tinytex, knitr, fontawesome, gtable, rmarkdown, rstudioapi, checkmate, RcppArmadillo, later, promises, htmlTable, data.table, igraph, NADA, Hmisc, zCompositions\n",
      "\n",
      "Installing packages into ‘/shared/home/mthemezeleroy/R/x86_64-conda-linux-gnu-library/4.4’\n",
      "(as ‘lib’ is unspecified)\n",
      "\n",
      "Warning message in i.p(...):\n",
      "“installation of package ‘fs’ had non-zero exit status”\n",
      "Warning message in i.p(...):\n",
      "“installation of package ‘Rcpp’ had non-zero exit status”\n",
      "Warning message in i.p(...):\n",
      "“installation of package ‘bitops’ had non-zero exit status”\n",
      "Warning message in i.p(...):\n",
      "“installation of package ‘xfun’ had non-zero exit status”\n",
      "Warning message in i.p(...):\n",
      "“installation of package ‘checkmate’ had non-zero exit status”\n",
      "Warning message in i.p(...):\n",
      "“installation of package ‘data.table’ had non-zero exit status”\n",
      "Warning message in i.p(...):\n",
      "“installation of package ‘igraph’ had non-zero exit status”\n",
      "Warning message in i.p(...):\n",
      "“installation of package ‘RCurl’ had non-zero exit status”\n",
      "Warning message in i.p(...):\n",
      "“installation of package ‘RcppArmadillo’ had non-zero exit status”\n",
      "Warning message in i.p(...):\n",
      "“installation of package ‘later’ had non-zero exit status”\n",
      "Warning message in i.p(...):\n",
      "“installation of package ‘promises’ had non-zero exit status”\n",
      "Warning message in i.p(...):\n",
      "“installation of package ‘Hmisc’ had non-zero exit status”\n"
     ]
    },
    {
     "name": "stdout",
     "output_type": "stream",
     "text": [
      "\u001b[36m──\u001b[39m \u001b[36mR CMD build\u001b[39m \u001b[36m─────────────────────────────────────────────────────────────────\u001b[39m\n",
      "* checking for file ‘/tmp/slurm_mthemezeleroy_36998225.tmp/Rtmp5V4XhZ/remotes2d9102b2d5646/jbisanz-qiime2R-d0610e1/DESCRIPTION’ ... OK\n",
      "* preparing ‘qiime2R’:\n",
      "* checking DESCRIPTION meta-information ... OK\n",
      "* checking for LF line-endings in source and make files and shell scripts\n",
      "* checking for empty or unneeded directories\n",
      "Omitted ‘LazyData’ from DESCRIPTION\n",
      "* building ‘qiime2R_0.99.6.tar.gz’\n",
      "Warning: invalid uid value replaced by that for user 'nobody'\n",
      "Warning: invalid gid value replaced by that for user 'nobody'\n",
      "\n"
     ]
    },
    {
     "name": "stderr",
     "output_type": "stream",
     "text": [
      "Installing package into ‘/shared/home/mthemezeleroy/R/x86_64-conda-linux-gnu-library/4.4’\n",
      "(as ‘lib’ is unspecified)\n",
      "\n"
     ]
    }
   ],
   "source": [
    "# Installation du package qiime2R depuis github s'il n'est pas déjà présent\n",
    "if (!requireNamespace(\"devtools\", quietly = TRUE)){install.packages(\"devtools\")}\n",
    "devtools::install_github(\"jbisanz/qiime2R\")"
   ]
  },
  {
   "cell_type": "markdown",
   "id": "513fd6ca-fb4c-404c-9431-734cf3ccb363",
   "metadata": {},
   "source": [
    "### Chargement des librairies"
   ]
  },
  {
   "cell_type": "code",
   "execution_count": 18,
   "id": "32af4cc7-9192-4365-8cf0-57f80ccc0251",
   "metadata": {
    "tags": []
   },
   "outputs": [],
   "source": [
    "library(qiime2R)\n",
    "library(tidyverse)"
   ]
  },
  {
   "cell_type": "markdown",
   "id": "010459df-fafe-4f08-bf39-172996bc09e9",
   "metadata": {},
   "source": [
    "### Importation des données"
   ]
  },
  {
   "cell_type": "markdown",
   "id": "47b4a90f-edf5-4a14-80e9-a034d29c9e74",
   "metadata": {},
   "source": [
    "#### Metadonnées de l'expérience"
   ]
  },
  {
   "cell_type": "code",
   "execution_count": 19,
   "id": "57504b7c-f34d-4ba6-946f-6f94f19ec534",
   "metadata": {},
   "outputs": [],
   "source": [
    "# Importation des meta données associées à l'expérience sur la température et le nourrissage de 4 espèces de nématodes\n",
    "meta_data <-read.table(\"data/meta-data2.tsv\", header= T)"
   ]
  },
  {
   "cell_type": "markdown",
   "id": "2f358459-3bcf-40bf-9341-22010e07aec7",
   "metadata": {},
   "source": [
    "#### Table de contingence des ASVs"
   ]
  },
  {
   "cell_type": "code",
   "execution_count": 20,
   "id": "46438f59-b36f-4678-bd24-96aebb30b60d",
   "metadata": {},
   "outputs": [],
   "source": [
    "# Importation de la table de contingence des ASVs de chaque échantillon\n",
    "ASV <- read_qza(\"data/table-nematodesAM.qza\")\n",
    "ASV_tbl <- as.data.frame(ASV$data) # création d'une table comprenant uniquement les données sur les ASVs et leur nombre\n",
    "ASV_tbl <- as.data.frame(t(ASV_tbl)) # transposer le dataframe pour avoir un échantillon par ligne et les ASVs en colonne\n",
    "ASV_tbl <- rownames_to_column(ASV_tbl, var = \"sample.id\") # transformer le nom des lignes en une colonne intitulée \"sample.id\""
   ]
  },
  {
   "cell_type": "markdown",
   "id": "67210691-e823-4457-abc6-88242fb3c9d3",
   "metadata": {},
   "source": [
    "#### Table des assignations taxonomiques en fonction des bases de référence"
   ]
  },
  {
   "cell_type": "code",
   "execution_count": 23,
   "id": "5f46cfa3-5868-4445-b395-5aa15a89461f",
   "metadata": {},
   "outputs": [],
   "source": [
    "assign_RDP <- tibble(read.csv(\"data/output/assign_RDP.csv\",sep = \";\"))\n",
    "names(assign_RDP)[9] <- \"base_ref\"\n",
    "assign_SILVA <- tibble(read.csv(\"data/output/assign_SILVA.csv\",sep = \";\"))\n",
    "assign_GG2 <- tibble(read.csv(\"data/output/assign_GG2.csv\",sep = \";\"))\n",
    "\n",
    "# Regroupper les trois tables\n",
    "assign_3ref <- bind_rows(assign_RDP, assign_SILVA, assign_GG2)"
   ]
  },
  {
   "cell_type": "markdown",
   "id": "955a7e31-c139-4b74-8a28-7ce52b3ecba0",
   "metadata": {},
   "source": [
    "### Fusion des dataframes"
   ]
  },
  {
   "cell_type": "code",
   "execution_count": 26,
   "id": "34c10ab3-45bf-4258-8519-aeeccc2ff293",
   "metadata": {},
   "outputs": [],
   "source": [
    "# Fusionner la table de metadonnées et la table de contingence des ASVs en fonction de l'échantillon\n",
    "PM4_data <- merge(ASV_tbl,meta_data, by= \"sample.id\") |> filter(species== \"PM4\" & food == \"with_food\")|> select(-c('species','food','replicats','treatment','description'))\n",
    "\n",
    "# Pivoter le tableau resultant en version longue pour avoir un ASV par ligne pour tous les échantillons\n",
    "PM4_data_lg <- pivot_longer(PM4_data, cols=-c(sample.id,temperature),names_to =\"ASV\",values_to =\"frequence\") |> \n",
    "    filter(frequence > 0) # filtrer pour ne garder que les lignes pour lesquelles la fréquence de l'ASV est supérieure à 0 "
   ]
  },
  {
   "cell_type": "code",
   "execution_count": 28,
   "id": "e16c1ce8-329a-4c08-a7f4-a8d03b9b1fa4",
   "metadata": {},
   "outputs": [],
   "source": [
    "# Fusionner PM4_data_lg avec les assignations\n",
    "data_final_pm4 <- merge(PM4_data_lg,assign_3ref, by= \"ASV\")"
   ]
  },
  {
   "cell_type": "markdown",
   "id": "946bd22f-4c45-4393-9554-6c7c7fd42563",
   "metadata": {},
   "source": [
    "## Sauvegarde des jeux de données crées"
   ]
  },
  {
   "cell_type": "code",
   "execution_count": 29,
   "id": "40557fa3-56de-4586-a56d-567437b42d32",
   "metadata": {},
   "outputs": [],
   "source": [
    "# Sauvegarder la fusion des métadonnées et des contingence d'ASVs : PM4_data_lg\n",
    "write.table(PM4_data_lg, file = \"data/output/PM4_data_clean.csv\", sep = \";\",row.names = FALSE,col.names = TRUE)\n",
    "# Sauvegarder le tableau de données final : data_final  \n",
    "write.table(data_final_pm4, file = \"data/output/data_final_pm4.csv\", sep = \";\", row.names = FALSE, col.names = TRUE)"
   ]
  }
 ],
 "metadata": {
  "kernelspec": {
   "display_name": "R 4.4.1",
   "language": "R",
   "name": "r4.4.1"
  },
  "language_info": {
   "codemirror_mode": "r",
   "file_extension": ".r",
   "mimetype": "text/x-r-source",
   "name": "R",
   "pygments_lexer": "r",
   "version": "4.4.1"
  }
 },
 "nbformat": 4,
 "nbformat_minor": 5
}
