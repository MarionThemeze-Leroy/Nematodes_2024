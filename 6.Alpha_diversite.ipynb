{
 "cells": [
  {
   "cell_type": "markdown",
   "id": "d25ca763-6efc-44eb-a59e-60853f260210",
   "metadata": {},
   "source": [
    "# Alpha diversite : richesse de genres assignés"
   ]
  },
  {
   "cell_type": "markdown",
   "id": "965f6cdb-5744-438e-8851-bf010a96f330",
   "metadata": {},
   "source": [
    "Dans cette partie, nous déterminons la richesse de genres assignés. Il s'agit de déterminer le nombre total de genres distincts qui ont été assignés. Ce nombre peut différer en fonction de la base de référence. \n",
    "Ensuite, nous essayons de déterminer s'il existe une différence de richesse significative en fonction de la température et, le cas échéant, si cette différence est significative quelque soit la base de référence utilisée pour l'assignation taxonomique, c'est-à-dire si chacune des bases réalise des assignations permettant de mettre en lumière la différence de composition en fonction de la température."
   ]
  },
  {
   "cell_type": "markdown",
   "id": "7c4bb29e-b89a-4905-a6cb-b0cc8fb78c2c",
   "metadata": {},
   "source": [
    "## Préparation de l'environnement et des données\n",
    "### Installation des packages nécessaires"
   ]
  },
  {
   "cell_type": "code",
   "execution_count": 18,
   "id": "dcbc96e2-00fc-4315-b190-fcc927ed39f4",
   "metadata": {},
   "outputs": [
    {
     "name": "stderr",
     "output_type": "stream",
     "text": [
      "Loading required package: usethis\n",
      "\n",
      "\n",
      "Attaching package: ‘devtools’\n",
      "\n",
      "\n",
      "The following object is masked from ‘package:permute’:\n",
      "\n",
      "    check\n",
      "\n",
      "\n",
      "Downloading GitHub repo pmartinezarbizu/pairwiseAdonis@HEAD\n",
      "\n"
     ]
    },
    {
     "name": "stdout",
     "output_type": "stream",
     "text": [
      "\n",
      "\u001b[36m──\u001b[39m \u001b[36mR CMD build\u001b[39m \u001b[36m─────────────────────────────────────────────────────────────────\u001b[39m\n",
      "* checking for file ‘/tmp/slurm_mthemezeleroy_37008213.tmp/RtmpQnnW6c/remotes1aabdb7848c5d/pmartinezarbizu-pairwiseAdonis-cb190f7/pairwiseAdonis/DESCRIPTION’ ... OK\n",
      "* preparing ‘pairwiseAdonis’:\n",
      "* checking DESCRIPTION meta-information ... OK\n",
      "* checking for LF line-endings in source and make files and shell scripts\n",
      "* checking for empty or unneeded directories\n",
      "Omitted ‘LazyData’ from DESCRIPTION\n",
      "* building ‘pairwiseAdonis_0.4.1.tar.gz’\n",
      "Warning: invalid uid value replaced by that for user 'nobody'\n",
      "Warning: invalid gid value replaced by that for user 'nobody'\n",
      "\n"
     ]
    },
    {
     "name": "stderr",
     "output_type": "stream",
     "text": [
      "Installing package into ‘/shared/home/mthemezeleroy/R/x86_64-conda-linux-gnu-library/4.4’\n",
      "(as ‘lib’ is unspecified)\n",
      "\n"
     ]
    }
   ],
   "source": [
    "# Installation de packages nécessaires\n",
    "\n",
    "# chargement de la librairie devtools, permettant notamment d'installer des packages depuis depuis GitHub \n",
    "library(devtools)\n",
    "# installation du package pairwiseAdonis\n",
    "install_github(\"pmartinezarbizu/pairwiseAdonis/pairwiseAdonis\")"
   ]
  },
  {
   "cell_type": "markdown",
   "id": "76b2e681-590e-43b2-b86a-06d9dbbb23e9",
   "metadata": {},
   "source": [
    "### Chargement des libraires nécessaires "
   ]
  },
  {
   "cell_type": "code",
   "execution_count": 1,
   "id": "c79c33d4-2bcd-41b4-9572-a6bfb74f2564",
   "metadata": {},
   "outputs": [
    {
     "name": "stderr",
     "output_type": "stream",
     "text": [
      "── \u001b[1mAttaching core tidyverse packages\u001b[22m ──────────────────────── tidyverse 2.0.0 ──\n",
      "\u001b[32m✔\u001b[39m \u001b[34mdplyr    \u001b[39m 1.1.4     \u001b[32m✔\u001b[39m \u001b[34mreadr    \u001b[39m 2.1.5\n",
      "\u001b[32m✔\u001b[39m \u001b[34mforcats  \u001b[39m 1.0.0     \u001b[32m✔\u001b[39m \u001b[34mstringr  \u001b[39m 1.5.1\n",
      "\u001b[32m✔\u001b[39m \u001b[34mggplot2  \u001b[39m 3.5.1     \u001b[32m✔\u001b[39m \u001b[34mtibble   \u001b[39m 3.2.1\n",
      "\u001b[32m✔\u001b[39m \u001b[34mlubridate\u001b[39m 1.9.3     \u001b[32m✔\u001b[39m \u001b[34mtidyr    \u001b[39m 1.3.1\n",
      "\u001b[32m✔\u001b[39m \u001b[34mpurrr    \u001b[39m 1.0.2     \n",
      "── \u001b[1mConflicts\u001b[22m ────────────────────────────────────────── tidyverse_conflicts() ──\n",
      "\u001b[31m✖\u001b[39m \u001b[34mdplyr\u001b[39m::\u001b[32mfilter()\u001b[39m masks \u001b[34mstats\u001b[39m::filter()\n",
      "\u001b[31m✖\u001b[39m \u001b[34mdplyr\u001b[39m::\u001b[32mlag()\u001b[39m    masks \u001b[34mstats\u001b[39m::lag()\n",
      "\u001b[36mℹ\u001b[39m Use the conflicted package (\u001b[3m\u001b[34m<http://conflicted.r-lib.org/>\u001b[39m\u001b[23m) to force all conflicts to become errors\n",
      "Loading required package: permute\n",
      "\n",
      "Loading required package: lattice\n",
      "\n",
      "This is vegan 2.6-8\n",
      "\n",
      "Loading required package: cluster\n",
      "\n"
     ]
    }
   ],
   "source": [
    "library(tidyverse) # collection de packages pour la manipulation de données\n",
    "library(vegan) # librairie nécessaire pour la fonction adonis2\n",
    "library(pairwiseAdonis) # librairie nécessaire pour la fonction pairwiseAdonis"
   ]
  },
  {
   "cell_type": "markdown",
   "id": "7f82cdba-ac75-47fc-9c62-bd1415cca095",
   "metadata": {},
   "source": [
    "### Importation des données\n",
    "\n",
    "Les données utilisées dans cette partie correspondent aux données se trouvant dans le tableau construit dans le jupyter notebook [2.Preparation data.ipynb](/2.Preparation data.ipynb). "
   ]
  },
  {
   "cell_type": "code",
   "execution_count": 2,
   "id": "fe749859-d181-4e8e-8eef-5b3f0a5ccd4c",
   "metadata": {},
   "outputs": [],
   "source": [
    "# Importation du fichier csv\n",
    "df_pm4 <- tibble(read.csv(\"data/output/data_final_pm4.csv\", sep = \";\"))"
   ]
  },
  {
   "cell_type": "markdown",
   "id": "3e74f934-bae4-4685-abf4-bcff263c753b",
   "metadata": {},
   "source": [
    "### Détermination de la richesse de genre assignés\n",
    "Nous allons créer un dataframe avec une nouvelle colonne \"S_genus\" qui va contenir le nombre total de genres uniques assignés pour chaque individu. En choisissant de comptabiliser les genres uniques, ce nombre sera différent de la frequence d'assignation au genre. Il comptabilise qu'une seul fois un genre, même si celui-ci a été assigné à plusieurs ASVs. "
   ]
  },
  {
   "cell_type": "code",
   "execution_count": 3,
   "id": "6781d9ab-deb1-4acf-b28c-b36ec83ba91b",
   "metadata": {},
   "outputs": [
    {
     "name": "stderr",
     "output_type": "stream",
     "text": [
      "\u001b[1m\u001b[22m`summarise()` has grouped output by 'sample.id', 'base_ref'. You can override\n",
      "using the `.groups` argument.\n"
     ]
    }
   ],
   "source": [
    "# Estimation de la richesse de genres assignés pour chaque température, en fonction de la base\n",
    "df_genus <- df_pm4 |> \n",
    "    # Regrouper par echantillon, température et base de référence pour l'assignation\n",
    "    group_by(sample.id, base_ref, temperature) |> \n",
    "    # Determiner le nombre de genre distincts, assignés (différents de NA) pour chaque individu en fonction de la temperature et de la base de référence pour l'assignation\n",
    "    summarise(S_genus = n_distinct(Genus[!is.na(Genus)])) |> \n",
    "    ungroup()|> \n",
    "    # Selectionner les colonnes sample.id, temperature, base_ref, S_genus\n",
    "    select(sample.id, temperature, base_ref, S_genus)"
   ]
  },
  {
   "cell_type": "markdown",
   "id": "304b132e-dcc0-4c0c-aa01-16e39d3a70b2",
   "metadata": {},
   "source": [
    "## Exploration des données\n",
    "Dans cette partie, nous allons explorer la relation entre richesse de genre et température en fonction de la base de référence utilisée pour l'assignation taxonomique afin de déterminer s'il existe des différence de diversité alpha en fonction de la température."
   ]
  },
  {
   "cell_type": "code",
   "execution_count": 4,
   "id": "29690419-7a59-4ea2-ba98-91b4fc84408e",
   "metadata": {},
   "outputs": [
    {
     "name": "stderr",
     "output_type": "stream",
     "text": [
      "\u001b[1m\u001b[22m`summarise()` has grouped output by 'base_ref'. You can override using the\n",
      "`.groups` argument.\n"
     ]
    },
    {
     "ename": "ERROR",
     "evalue": "Error: object 'pmx_genus_plot' not found\n",
     "output_type": "error",
     "traceback": [
      "Error: object 'pmx_genus_plot' not found\nTraceback:\n",
      "1. calc_element(\"plot.background\", plot_theme(plot))$fill %||% \"transparent\"",
      "2. calc_element(\"plot.background\", plot_theme(plot))",
      "3. plot_theme(plot)",
      "4. .handleSimpleError(function (cnd) \n . {\n .     watcher$capture_plot_and_output()\n .     cnd <- sanitize_call(cnd)\n .     watcher$push(cnd)\n .     switch(on_error, continue = invokeRestart(\"eval_continue\"), \n .         stop = invokeRestart(\"eval_stop\"), error = invokeRestart(\"eval_error\", \n .             cnd))\n . }, \"object 'pmx_genus_plot' not found\", base::quote(eval(expr, \n .     envir)))"
     ]
    },
    {
     "data": {
      "image/png": "[encoded data removed]",
      "text/plain": [
       "plot without title"
      ]
     },
     "metadata": {
      "image/png": {
       "height": 420,
       "width": 420
      }
     },
     "output_type": "display_data"
    }
   ],
   "source": [
    "# Représentation graphique \n",
    "\n",
    "# Préparation du dataframe qui sera utilisé pour le graphique\n",
    "df_genus_plot <- df_genus |> \n",
    "    # Regrouper par température et base de référence pour obtenir \n",
    "    group_by(base_ref, temperature) |> \n",
    "    summarise(\n",
    "        # Calcul de la richesse moyenne pour chaque couple base*temp\n",
    "        S_genus_mean = mean(S_genus),\n",
    "        # Calcul de la deviation standard pour chaque couple base*temp\n",
    "        S_genus_sd = sd(S_genus),\n",
    "        # Calcul de l'erreur standard pour chaque couple base*temp\n",
    "        S_genus_se = S_genus_sd/sqrt(n()),\n",
    "        # Calcul du nombre d'individus par couple base*temp\n",
    "        n_sample=n()) # Permet de vérifier que le regroupement par température est bien fait\n",
    "\n",
    "# Réalisation du graphique \n",
    "pmv_genus_plot <- ggplot(df_genus_plot, aes(x = factor(temperature), y = S_genus_mean, fill = base_ref, coulour = base_ref)) +\n",
    "    geom_bar(stat = \"identity\", position = \"dodge\") + \n",
    "    geom_errorbar(aes(ymin = S_genus_mean - S_genus_se, ymax = S_genus_mean + S_genus_se), position = position_dodge(width = 0.8), width = 0.2, linewidth = 0.5) +\n",
    "    labs(x = \"Temperature\", y = \"Richesse de genres\", fill = \"Base de référence\") +\n",
    "    guides(colour = \"none\") + \n",
    "## Choix de la charte graphique\n",
    "    scale_fill_viridis_d() + # choix des couleurs de remplissage des bar\n",
    "    scale_colour_viridis_d() + # choix des couleurs de contour des bar\n",
    "    # Ajout d'un thème noir et blanc\n",
    "    theme_bw() + \n",
    "    # Choix des tailles de texte pour les axes et le titre des axes\n",
    "    theme(axis.title = element_text(size = 15),\n",
    "        axis.text = element_text(size = 12))\n",
    "\n",
    "# Affichage du graphique obtenu\n",
    "pmv_genus_plot\n",
    "\n",
    "# Sauvegarde du graphqiue obtenu dans le dossier \"figures\"\n",
    "ggsave(\"data/output/figures/S_genus_pmv.png\", pmx_genus_plot, width = 6, height = 5)"
   ]
  },
  {
   "cell_type": "markdown",
   "id": "11400e38-f101-42e6-b65f-ad1a3f10e84d",
   "metadata": {},
   "source": [
    "Le graphique ci-dessus représente la richesse de genres (uniques) assignés par couple _Temperature * Base de référence_. Les barres colorées représentent la moyenne de richesse de genre et la barre d'erreur repéresent l'erreur standard. \n",
    "\n",
    "Nous voyons que : \n",
    "- La richesse de genre semble augmenter pour une élévation de température entre 15°C et 20°C; elle semble rester constante de 20°C à 25°C pour GG2 et légèrement augmenter pour SILVA et RDP. \n",
    "- Pour une même température, en prenant en compte la variabilité avec l'erreur standard, le richesse de genres ne présente pas de différences significatives entre bases de références.\n",
    "\n",
    "Il semblerait donc qu'il y ait une plus grande diversité du microbiome à des températures plus élevées. Cependant, cette analyse ne prend en compte que les ASVs qui ont obtenus une assignation taxonomique. Ce résultat peut donc être biasé par le fait que les bases de références contiendraient plus de références taxonomiques pour des procaryotes ayant des optimums et des seuils de tolérance de température plus élevées. Cela pourrait être le cas si nous considérons que les espèces tropicales ont reçu plus d'intérêt d'étude que des espèces des milieux tempérés.  \n",
    "\n",
    "Contrairement à la fréquence d'assignation, la richesse en genres semble augmenter avec la température. Ceci peut paraître contradictoire mais pourrait s'expliquer par le fait que pour la fréquence d'assignation, un même genre peut être attribué pour plusieurs ASVs. En terme de proportion, cela voudrait dire que pour un plus faible nombre d'assignations totales à 25°C, les assignations étaient moins redondantes qu'à 15°C. "
   ]
  },
  {
   "cell_type": "markdown",
   "id": "a794acce-da3c-4525-8f84-1953c3c77bad",
   "metadata": {},
   "source": [
    "## Analyse statistique\n",
    "Nous allons déterminer si la différence observée est statistiquement significative. Des analyses préalabbles montrent que les conditions de normalité ne sont pas respectées, ainsi nous réalisons une PERMANOVA qui ne fait aucune hypothèse sur la normalité ou l'homogénéité des variances. Les analyses de normalité sont disponibles en fin de script. "
   ]
  },
  {
   "cell_type": "markdown",
   "id": "de6bbe0e-3637-4e22-89b3-0c99ca06d1fc",
   "metadata": {},
   "source": [
    "### PERMANOVA\n",
    "Nous allons réaliser une analyse de variance multivariée permutationnelle (PERMANOVA) en utilisant la matrice de dissimilarité de Bray-Curtis pour tester les différences significatives dans la richesse de genres assignés à travers la température,  la base de référence utilisée pour l'assignation taxonomique, et l'intéraction entre les deux. "
   ]
  },
  {
   "cell_type": "markdown",
   "id": "b74cea29-3b7c-4e27-bf8a-13ee96fee11b",
   "metadata": {},
   "source": [
    "#### Préparation des données pour la PERMANOVA"
   ]
  },
  {
   "cell_type": "code",
   "execution_count": 5,
   "id": "a9c37135-b7f8-4a7a-ae29-47432b6ba34b",
   "metadata": {},
   "outputs": [],
   "source": [
    "# Créer un sous-tableau contenant QUE la richesse de genres assignés pour calculer les matrice de dissimilarité\n",
    "mx_pmv_g <- df_genus  |> \n",
    "  select(-c(sample.id,temperature,base_ref))  # retirer les colonnes correspondant aux metadonnées\n",
    "\n",
    "# Créer un sous-tableau contenant que les metadonnées\n",
    "env_pmv_g <- df_genus |> \n",
    "  select(sample.id,temperature,base_ref) |> # conserver uniquement les colonnes correspondant aux metadonnées\n",
    "  mutate(temperature = as.factor(temperature), base_ref= as.factor(base_ref)) # transformer les variables temperature et base_ref en facteurs"
   ]
  },
  {
   "cell_type": "markdown",
   "id": "4df89ef2-361c-43df-a9c8-6bbe1e570b9c",
   "metadata": {},
   "source": [
    "#### PERMANOVA : _Richesse de genre ~ Température * Base de référence_"
   ]
  },
  {
   "cell_type": "code",
   "execution_count": 6,
   "id": "393d5fa3-9a01-48f0-a31c-2019100e3149",
   "metadata": {},
   "outputs": [
    {
     "data": {
      "text/html": [
       "<table class=\"dataframe\">\n",
       "<caption>A anova.cca: 5 × 5</caption>\n",
       "<thead>\n",
       "\t<tr><th></th><th scope=col>Df</th><th scope=col>SumOfSqs</th><th scope=col>R2</th><th scope=col>F</th><th scope=col>Pr(&gt;F)</th></tr>\n",
       "\t<tr><th></th><th scope=col>&lt;dbl&gt;</th><th scope=col>&lt;dbl&gt;</th><th scope=col>&lt;dbl&gt;</th><th scope=col>&lt;dbl&gt;</th><th scope=col>&lt;dbl&gt;</th></tr>\n",
       "</thead>\n",
       "<tbody>\n",
       "\t<tr><th scope=row>temperature</th><td> 2</td><td>0.25860284</td><td>0.069719087</td><td>2.94027024</td><td>0.046</td></tr>\n",
       "\t<tr><th scope=row>base_ref</th><td> 2</td><td>0.01654111</td><td>0.004459468</td><td>0.18806959</td><td>0.912</td></tr>\n",
       "\t<tr><th scope=row>temperature:base_ref</th><td> 4</td><td>0.00393703</td><td>0.001061420</td><td>0.02238168</td><td>1.000</td></tr>\n",
       "\t<tr><th scope=row>Residual</th><td>78</td><td>3.43013060</td><td>0.924760026</td><td>        NA</td><td>   NA</td></tr>\n",
       "\t<tr><th scope=row>Total</th><td>86</td><td>3.70921158</td><td>1.000000000</td><td>        NA</td><td>   NA</td></tr>\n",
       "</tbody>\n",
       "</table>\n"
      ],
      "text/latex": [
       "A anova.cca: 5 × 5\n",
       "\\begin{tabular}{r|lllll}\n",
       "  & Df & SumOfSqs & R2 & F & Pr(>F)\\\\\n",
       "  & <dbl> & <dbl> & <dbl> & <dbl> & <dbl>\\\\\n",
       "\\hline\n",
       "\ttemperature &  2 & 0.25860284 & 0.069719087 & 2.94027024 & 0.046\\\\\n",
       "\tbase\\_ref &  2 & 0.01654111 & 0.004459468 & 0.18806959 & 0.912\\\\\n",
       "\ttemperature:base\\_ref &  4 & 0.00393703 & 0.001061420 & 0.02238168 & 1.000\\\\\n",
       "\tResidual & 78 & 3.43013060 & 0.924760026 &         NA &    NA\\\\\n",
       "\tTotal & 86 & 3.70921158 & 1.000000000 &         NA &    NA\\\\\n",
       "\\end{tabular}\n"
      ],
      "text/markdown": [
       "\n",
       "A anova.cca: 5 × 5\n",
       "\n",
       "| <!--/--> | Df &lt;dbl&gt; | SumOfSqs &lt;dbl&gt; | R2 &lt;dbl&gt; | F &lt;dbl&gt; | Pr(&gt;F) &lt;dbl&gt; |\n",
       "|---|---|---|---|---|---|\n",
       "| temperature |  2 | 0.25860284 | 0.069719087 | 2.94027024 | 0.046 |\n",
       "| base_ref |  2 | 0.01654111 | 0.004459468 | 0.18806959 | 0.912 |\n",
       "| temperature:base_ref |  4 | 0.00393703 | 0.001061420 | 0.02238168 | 1.000 |\n",
       "| Residual | 78 | 3.43013060 | 0.924760026 |         NA |    NA |\n",
       "| Total | 86 | 3.70921158 | 1.000000000 |         NA |    NA |\n",
       "\n"
      ],
      "text/plain": [
       "                     Df SumOfSqs   R2          F          Pr(>F)\n",
       "temperature           2 0.25860284 0.069719087 2.94027024 0.046 \n",
       "base_ref              2 0.01654111 0.004459468 0.18806959 0.912 \n",
       "temperature:base_ref  4 0.00393703 0.001061420 0.02238168 1.000 \n",
       "Residual             78 3.43013060 0.924760026         NA    NA \n",
       "Total                86 3.70921158 1.000000000         NA    NA "
      ]
     },
     "metadata": {},
     "output_type": "display_data"
    }
   ],
   "source": [
    "set.seed(123) # Initialisation d'une graine aléatoire pour la reproductibilité des permutations\n",
    "\n",
    "# Determiner la matrice de distance entre échantillons avec la méthode de Bray-Curtis\n",
    "bray_dist_g <- vegdist(mx_pmv_g, method = \"bray\")\n",
    "\n",
    "# Réalisation de la PERMANOVA\n",
    "pmv_g_t <- adonis2(bray_dist_g ~ temperature * base_ref, data = env_pmv_g, by = \"terms\")\n",
    "pmv_g_t"
   ]
  },
  {
   "cell_type": "markdown",
   "id": "e7e7b491-e5da-4967-93c5-17c45a2de932",
   "metadata": {},
   "source": [
    "La PERMANOVA a révélé que : \n",
    "- la base de référence (F = 0.19, R² = 0.004, p = 0.912) n'a pas d'effet significatif. L'absence d'influence de la base de donnée sur la richesse de genre était attendu car d'un point de vue écologique la base de référence utilisée ne devrait pas avoir une influence sur la diversité. \n",
    "- l'interaction entre la température et base de référence (F = 0.02, R² = 0.001, p = 1.00) n'est pas significative. L'absence d'effet de l'intéraction entre température et base de donnée montre que pour une même température peu importe la base de référence utilisée, il n'y aura pas de différence de diversité. \n",
    "- il existe des **différences significatives dans la richesse de genre en fonction de la température** (F = 2.94, R² = 0.069, p = 0.046). \n",
    "\n",
    "Ces trois points sont réconfortants d'un point de vue méthodologique : il y a un effet de la température sur la diverité de genre et celui-ci peu être démontré peu importe la base de référence utilisée pour l'assignation taxonomique.\n",
    "\n",
    "Il est à noter que le modèle complet explique uniquement 8% de la variation totale (R² = 0.08). Ainsi, d'autres facteurs seraient à prendre en compte pour expliquer la diversité. "
   ]
  },
  {
   "cell_type": "markdown",
   "id": "e31f8895-5661-4a14-977b-99cb6ded48a0",
   "metadata": {},
   "source": [
    "#### Post-hoc\n",
    "Nous allons déterminer quelles températures présentent des différences significatives de richesse de genre."
   ]
  },
  {
   "cell_type": "code",
   "execution_count": 7,
   "id": "4bc1186a-2da9-42fd-8153-a6f9bcb5adfe",
   "metadata": {},
   "outputs": [
    {
     "data": {
      "text/html": [
       "<dl>\n",
       "\t<dt>$parent_call</dt>\n",
       "\t\t<dd>'bray_dist_g ~ temperature , strata = Null , permutations 999'</dd>\n",
       "\t<dt>$`15_vs_20`</dt>\n",
       "\t\t<dd><table class=\"dataframe\">\n",
       "<caption>A anova.cca: 3 × 5</caption>\n",
       "<thead>\n",
       "\t<tr><th></th><th scope=col>Df</th><th scope=col>SumOfSqs</th><th scope=col>R2</th><th scope=col>F</th><th scope=col>Pr(&gt;F)</th></tr>\n",
       "\t<tr><th></th><th scope=col>&lt;dbl&gt;</th><th scope=col>&lt;dbl&gt;</th><th scope=col>&lt;dbl&gt;</th><th scope=col>&lt;dbl&gt;</th><th scope=col>&lt;dbl&gt;</th></tr>\n",
       "</thead>\n",
       "<tbody>\n",
       "\t<tr><th scope=row>Model</th><td> 1</td><td>0.08058701</td><td>0.02849984</td><td>1.613475</td><td>0.207</td></tr>\n",
       "\t<tr><th scope=row>Residual</th><td>55</td><td>2.74704311</td><td>0.97150016</td><td>      NA</td><td>   NA</td></tr>\n",
       "\t<tr><th scope=row>Total</th><td>56</td><td>2.82763012</td><td>1.00000000</td><td>      NA</td><td>   NA</td></tr>\n",
       "</tbody>\n",
       "</table>\n",
       "</dd>\n",
       "\t<dt>$`15_vs_25`</dt>\n",
       "\t\t<dd><table class=\"dataframe\">\n",
       "<caption>A anova.cca: 3 × 5</caption>\n",
       "<thead>\n",
       "\t<tr><th></th><th scope=col>Df</th><th scope=col>SumOfSqs</th><th scope=col>R2</th><th scope=col>F</th><th scope=col>Pr(&gt;F)</th></tr>\n",
       "\t<tr><th></th><th scope=col>&lt;dbl&gt;</th><th scope=col>&lt;dbl&gt;</th><th scope=col>&lt;dbl&gt;</th><th scope=col>&lt;dbl&gt;</th><th scope=col>&lt;dbl&gt;</th></tr>\n",
       "</thead>\n",
       "<tbody>\n",
       "\t<tr><th scope=row>Model</th><td> 1</td><td>0.2115202</td><td>0.1232591</td><td>7.732328</td><td>0.007</td></tr>\n",
       "\t<tr><th scope=row>Residual</th><td>55</td><td>1.5045415</td><td>0.8767409</td><td>      NA</td><td>   NA</td></tr>\n",
       "\t<tr><th scope=row>Total</th><td>56</td><td>1.7160617</td><td>1.0000000</td><td>      NA</td><td>   NA</td></tr>\n",
       "</tbody>\n",
       "</table>\n",
       "</dd>\n",
       "\t<dt>$`20_vs_25`</dt>\n",
       "\t\t<dd><table class=\"dataframe\">\n",
       "<caption>A anova.cca: 3 × 5</caption>\n",
       "<thead>\n",
       "\t<tr><th></th><th scope=col>Df</th><th scope=col>SumOfSqs</th><th scope=col>R2</th><th scope=col>F</th><th scope=col>Pr(&gt;F)</th></tr>\n",
       "\t<tr><th></th><th scope=col>&lt;dbl&gt;</th><th scope=col>&lt;dbl&gt;</th><th scope=col>&lt;dbl&gt;</th><th scope=col>&lt;dbl&gt;</th><th scope=col>&lt;dbl&gt;</th></tr>\n",
       "</thead>\n",
       "<tbody>\n",
       "\t<tr><th scope=row>Model</th><td> 1</td><td>0.09747231</td><td>0.03548183</td><td>2.133652</td><td>0.124</td></tr>\n",
       "\t<tr><th scope=row>Residual</th><td>58</td><td>2.64963287</td><td>0.96451817</td><td>      NA</td><td>   NA</td></tr>\n",
       "\t<tr><th scope=row>Total</th><td>59</td><td>2.74710518</td><td>1.00000000</td><td>      NA</td><td>   NA</td></tr>\n",
       "</tbody>\n",
       "</table>\n",
       "</dd>\n",
       "</dl>\n"
      ],
      "text/latex": [
       "\\begin{description}\n",
       "\\item[\\$parent\\_call] 'bray\\_dist\\_g \\textasciitilde{} temperature , strata = Null , permutations 999'\n",
       "\\item[\\$`15\\_vs\\_20`] A anova.cca: 3 × 5\n",
       "\\begin{tabular}{r|lllll}\n",
       "  & Df & SumOfSqs & R2 & F & Pr(>F)\\\\\n",
       "  & <dbl> & <dbl> & <dbl> & <dbl> & <dbl>\\\\\n",
       "\\hline\n",
       "\tModel &  1 & 0.08058701 & 0.02849984 & 1.613475 & 0.207\\\\\n",
       "\tResidual & 55 & 2.74704311 & 0.97150016 &       NA &    NA\\\\\n",
       "\tTotal & 56 & 2.82763012 & 1.00000000 &       NA &    NA\\\\\n",
       "\\end{tabular}\n",
       "\n",
       "\\item[\\$`15\\_vs\\_25`] A anova.cca: 3 × 5\n",
       "\\begin{tabular}{r|lllll}\n",
       "  & Df & SumOfSqs & R2 & F & Pr(>F)\\\\\n",
       "  & <dbl> & <dbl> & <dbl> & <dbl> & <dbl>\\\\\n",
       "\\hline\n",
       "\tModel &  1 & 0.2115202 & 0.1232591 & 7.732328 & 0.007\\\\\n",
       "\tResidual & 55 & 1.5045415 & 0.8767409 &       NA &    NA\\\\\n",
       "\tTotal & 56 & 1.7160617 & 1.0000000 &       NA &    NA\\\\\n",
       "\\end{tabular}\n",
       "\n",
       "\\item[\\$`20\\_vs\\_25`] A anova.cca: 3 × 5\n",
       "\\begin{tabular}{r|lllll}\n",
       "  & Df & SumOfSqs & R2 & F & Pr(>F)\\\\\n",
       "  & <dbl> & <dbl> & <dbl> & <dbl> & <dbl>\\\\\n",
       "\\hline\n",
       "\tModel &  1 & 0.09747231 & 0.03548183 & 2.133652 & 0.124\\\\\n",
       "\tResidual & 58 & 2.64963287 & 0.96451817 &       NA &    NA\\\\\n",
       "\tTotal & 59 & 2.74710518 & 1.00000000 &       NA &    NA\\\\\n",
       "\\end{tabular}\n",
       "\n",
       "\\end{description}\n"
      ],
      "text/markdown": [
       "$parent_call\n",
       ":   'bray_dist_g ~ temperature , strata = Null , permutations 999'\n",
       "$`15_vs_20`\n",
       ":   \n",
       "A anova.cca: 3 × 5\n",
       "\n",
       "| <!--/--> | Df &lt;dbl&gt; | SumOfSqs &lt;dbl&gt; | R2 &lt;dbl&gt; | F &lt;dbl&gt; | Pr(&gt;F) &lt;dbl&gt; |\n",
       "|---|---|---|---|---|---|\n",
       "| Model |  1 | 0.08058701 | 0.02849984 | 1.613475 | 0.207 |\n",
       "| Residual | 55 | 2.74704311 | 0.97150016 |       NA |    NA |\n",
       "| Total | 56 | 2.82763012 | 1.00000000 |       NA |    NA |\n",
       "\n",
       "\n",
       "$`15_vs_25`\n",
       ":   \n",
       "A anova.cca: 3 × 5\n",
       "\n",
       "| <!--/--> | Df &lt;dbl&gt; | SumOfSqs &lt;dbl&gt; | R2 &lt;dbl&gt; | F &lt;dbl&gt; | Pr(&gt;F) &lt;dbl&gt; |\n",
       "|---|---|---|---|---|---|\n",
       "| Model |  1 | 0.2115202 | 0.1232591 | 7.732328 | 0.007 |\n",
       "| Residual | 55 | 1.5045415 | 0.8767409 |       NA |    NA |\n",
       "| Total | 56 | 1.7160617 | 1.0000000 |       NA |    NA |\n",
       "\n",
       "\n",
       "$`20_vs_25`\n",
       ":   \n",
       "A anova.cca: 3 × 5\n",
       "\n",
       "| <!--/--> | Df &lt;dbl&gt; | SumOfSqs &lt;dbl&gt; | R2 &lt;dbl&gt; | F &lt;dbl&gt; | Pr(&gt;F) &lt;dbl&gt; |\n",
       "|---|---|---|---|---|---|\n",
       "| Model |  1 | 0.09747231 | 0.03548183 | 2.133652 | 0.124 |\n",
       "| Residual | 58 | 2.64963287 | 0.96451817 |       NA |    NA |\n",
       "| Total | 59 | 2.74710518 | 1.00000000 |       NA |    NA |\n",
       "\n",
       "\n",
       "\n",
       "\n"
      ],
      "text/plain": [
       "$parent_call\n",
       "[1] \"bray_dist_g ~ temperature , strata = Null , permutations 999\"\n",
       "\n",
       "$`15_vs_20`\n",
       "         Df SumOfSqs     R2      F Pr(>F)\n",
       "Model     1  0.08059 0.0285 1.6135  0.207\n",
       "Residual 55  2.74704 0.9715              \n",
       "Total    56  2.82763 1.0000              \n",
       "\n",
       "$`15_vs_25`\n",
       "         Df SumOfSqs      R2      F Pr(>F)   \n",
       "Model     1  0.21152 0.12326 7.7323  0.007 **\n",
       "Residual 55  1.50454 0.87674                 \n",
       "Total    56  1.71606 1.00000                 \n",
       "---\n",
       "Signif. codes:  0 ‘***’ 0.001 ‘**’ 0.01 ‘*’ 0.05 ‘.’ 0.1 ‘ ’ 1\n",
       "\n",
       "$`20_vs_25`\n",
       "         Df SumOfSqs      R2      F Pr(>F)\n",
       "Model     1  0.09747 0.03548 2.1337  0.124\n",
       "Residual 58  2.64963 0.96452              \n",
       "Total    59  2.74711 1.00000              \n",
       "\n",
       "attr(,\"class\")\n",
       "[1] \"pwadstrata\" \"list\"      "
      ]
     },
     "metadata": {},
     "output_type": "display_data"
    }
   ],
   "source": [
    "# Tests post hoc PERMANOVA\n",
    "\n",
    "# Comparaison 2 à 2 des richesses en fonction de la température \n",
    "pairwise.adonis2(bray_dist_g ~ temperature, data = env_pmv_g)"
   ]
  },
  {
   "cell_type": "markdown",
   "id": "d10fdf2a-80ff-4a55-b3f5-76b5eec81edf",
   "metadata": {},
   "source": [
    "Il y a une différence significative de richesse entre les températures **15°C et 25°C** (p = 0.007)."
   ]
  },
  {
   "cell_type": "markdown",
   "id": "ebb1ed45-47c3-4730-abdb-b135365ecb84",
   "metadata": {},
   "source": [
    "#### Analyse de la dispersion \n",
    "Nous allons déterminer si les différences entre températures sont due à une différence de composition ou de dispersion autour d'un centroid. "
   ]
  },
  {
   "cell_type": "code",
   "execution_count": 10,
   "id": "128d75bb-c98f-4e8b-8675-f3bb49e2f1b3",
   "metadata": {},
   "outputs": [
    {
     "data": {
      "text/html": [
       "<table class=\"dataframe\">\n",
       "<caption>A anova: 2 × 5</caption>\n",
       "<thead>\n",
       "\t<tr><th></th><th scope=col>Df</th><th scope=col>Sum Sq</th><th scope=col>Mean Sq</th><th scope=col>F value</th><th scope=col>Pr(&gt;F)</th></tr>\n",
       "\t<tr><th></th><th scope=col>&lt;int&gt;</th><th scope=col>&lt;dbl&gt;</th><th scope=col>&lt;dbl&gt;</th><th scope=col>&lt;dbl&gt;</th><th scope=col>&lt;dbl&gt;</th></tr>\n",
       "</thead>\n",
       "<tbody>\n",
       "\t<tr><th scope=row>Groups</th><td> 2</td><td>0.1290718</td><td>0.06453590</td><td>3.256973</td><td>0.04341894</td></tr>\n",
       "\t<tr><th scope=row>Residuals</th><td>84</td><td>1.6644339</td><td>0.01981469</td><td>      NA</td><td>        NA</td></tr>\n",
       "</tbody>\n",
       "</table>\n"
      ],
      "text/latex": [
       "A anova: 2 × 5\n",
       "\\begin{tabular}{r|lllll}\n",
       "  & Df & Sum Sq & Mean Sq & F value & Pr(>F)\\\\\n",
       "  & <int> & <dbl> & <dbl> & <dbl> & <dbl>\\\\\n",
       "\\hline\n",
       "\tGroups &  2 & 0.1290718 & 0.06453590 & 3.256973 & 0.04341894\\\\\n",
       "\tResiduals & 84 & 1.6644339 & 0.01981469 &       NA &         NA\\\\\n",
       "\\end{tabular}\n"
      ],
      "text/markdown": [
       "\n",
       "A anova: 2 × 5\n",
       "\n",
       "| <!--/--> | Df &lt;int&gt; | Sum Sq &lt;dbl&gt; | Mean Sq &lt;dbl&gt; | F value &lt;dbl&gt; | Pr(&gt;F) &lt;dbl&gt; |\n",
       "|---|---|---|---|---|---|\n",
       "| Groups |  2 | 0.1290718 | 0.06453590 | 3.256973 | 0.04341894 |\n",
       "| Residuals | 84 | 1.6644339 | 0.01981469 |       NA |         NA |\n",
       "\n"
      ],
      "text/plain": [
       "          Df Sum Sq    Mean Sq    F value  Pr(>F)    \n",
       "Groups     2 0.1290718 0.06453590 3.256973 0.04341894\n",
       "Residuals 84 1.6644339 0.01981469       NA         NA"
      ]
     },
     "metadata": {},
     "output_type": "display_data"
    },
    {
     "data": {
      "text/plain": [
       "  Tukey multiple comparisons of means\n",
       "    95% family-wise confidence level\n",
       "\n",
       "Fit: aov(formula = distances ~ group, data = df)\n",
       "\n",
       "$group\n",
       "              diff         lwr         upr     p adj\n",
       "20-15  0.076711360 -0.01238323 0.165805945 0.1057654\n",
       "25-15 -0.007711676 -0.09680626 0.081382909 0.9767686\n",
       "25-20 -0.084423036 -0.17114134 0.002295265 0.0580897\n"
      ]
     },
     "metadata": {},
     "output_type": "display_data"
    }
   ],
   "source": [
    "# Analyse de la dispersion \n",
    "disp_temp <- betadisper(bray_dist_g, env_pmv_g$temperature)\n",
    "\n",
    "# Déterminer s'il y a des différences significatives de dispersion ou homogénéité\n",
    "anova(disp_temp) \n",
    "\n",
    "# Déterminer entre quelles températures il y a des différences significatives de dispersion\n",
    "TukeyHSD(disp_temp)"
   ]
  },
  {
   "cell_type": "markdown",
   "id": "bdf57876-7c27-4388-8f07-507f6e9a129b",
   "metadata": {},
   "source": [
    "L'analyse de la dispersion montre des différences significatives de dispersion (p=0.0434). Celles-ci est présente pour les températures 20°C et 25°C. Ainsi, comme il y a homogénéité de dispersion **entre les températures 15°C et 25°C, la différence de diversité trouvée par le PERMANOVA est bien une différence de composition.**"
   ]
  },
  {
   "cell_type": "markdown",
   "id": "67445e35-affd-4a33-a1c7-ec48c69d7408",
   "metadata": {},
   "source": [
    "### _Analyse de la normalité_\n",
    "Nous réalisons des tests de shapiro pour déterminer si la richesse de genres assignés suit une distribution normale en fonction des 9 couples de condition temperature * base de référence. "
   ]
  },
  {
   "cell_type": "code",
   "execution_count": null,
   "id": "c29e6a5b-905a-495f-bf3d-52f248b9a4a5",
   "metadata": {},
   "outputs": [],
   "source": [
    "# Creation d'un dataframe contenant pour chaque couple de condition, la statistique de test \n",
    "# et la valeur p du test de shapiro  \n",
    "\n",
    "norm_g <- df_genus |> \n",
    "    group_by(base_ref, temperature) |>\n",
    "    summarise(p_shap = shapiro.test(S_genus)$p.value,\n",
    "              stat_shap = shapiro.test(S_genus)$statistic)\n",
    "\n",
    "# Creation d'une variable contenant le nombre de couple de conditions pour lesquelles la distribution de la \n",
    "# richesse de genre assignés S_genus ne suit pas une loi normale. Pour un test de Shapiro, l'hypothèse H0 \n",
    "# est que la distribution étudiée est égale a une distribution normale. Ainsi, lorsque le risque alpha = 0.05 \n",
    "# la distribution n'est pas normale lorsqu'on rejette H0 (p < 0.05)\n",
    "\n",
    "not_normal <- length(unique(norm_g$p_shap) < 0.05)\n",
    "not_normal # Si \"not_normal\" est différent de 0, alors les conditions de normalité ne sont pas respectées pour \n",
    "# au moins un des couples de conditions.\n",
    "# Ici, not_normal = 9, ainsi la normalité n'est respectée pour aucun des couples. \n",
    "# Nous ne respectons pas les conditions nécessaires pour réaliser une ANOVA. "
   ]
  }
 ],
 "metadata": {
  "kernelspec": {
   "display_name": "R 4.4.1",
   "language": "R",
   "name": "r4.4.1"
  },
  "language_info": {
   "codemirror_mode": "r",
   "file_extension": ".r",
   "mimetype": "text/x-r-source",
   "name": "R",
   "pygments_lexer": "r",
   "version": "4.4.1"
  }
 },
 "nbformat": 4,
 "nbformat_minor": 5
}
